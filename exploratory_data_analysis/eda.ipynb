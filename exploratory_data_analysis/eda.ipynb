{
 "cells": [
  {
   "cell_type": "markdown",
   "metadata": {},
   "source": [
    "## Libraries"
   ]
  },
  {
   "cell_type": "code",
   "execution_count": 8,
   "metadata": {},
   "outputs": [],
   "source": [
    "import json\n",
    "import pandas as pd\n",
    "import numpy as np\n",
    "import os"
   ]
  },
  {
   "cell_type": "markdown",
   "metadata": {},
   "source": [
    "## Config"
   ]
  },
  {
   "cell_type": "code",
   "execution_count": 9,
   "metadata": {},
   "outputs": [],
   "source": [
    "# Load the config file\n",
    "with open('../config/config.json', 'r') as f:\n",
    "    config = json.load(f)\n",
    "\n",
    "file_path = config[\"data_loc\"]"
   ]
  },
  {
   "cell_type": "markdown",
   "metadata": {},
   "source": [
    " ## Datasets"
   ]
  },
  {
   "cell_type": "markdown",
   "metadata": {},
   "source": [
    "### Inference batch"
   ]
  },
  {
   "cell_type": "code",
   "execution_count": 13,
   "metadata": {},
   "outputs": [
    {
     "name": "stdout",
     "output_type": "stream",
     "text": [
      "The inference batch has 1097 observations and 4 columns.\n"
     ]
    },
    {
     "data": {
      "text/html": [
       "<div>\n",
       "<style scoped>\n",
       "    .dataframe tbody tr th:only-of-type {\n",
       "        vertical-align: middle;\n",
       "    }\n",
       "\n",
       "    .dataframe tbody tr th {\n",
       "        vertical-align: top;\n",
       "    }\n",
       "\n",
       "    .dataframe thead th {\n",
       "        text-align: right;\n",
       "    }\n",
       "</style>\n",
       "<table border=\"1\" class=\"dataframe\">\n",
       "  <thead>\n",
       "    <tr style=\"text-align: right;\">\n",
       "      <th></th>\n",
       "      <th>PMID</th>\n",
       "      <th>Title</th>\n",
       "      <th>Abstract</th>\n",
       "      <th>Label</th>\n",
       "    </tr>\n",
       "  </thead>\n",
       "  <tbody>\n",
       "    <tr>\n",
       "      <th>0</th>\n",
       "      <td>34902587</td>\n",
       "      <td>Detection of porcine circovirus type 3 DNA in ...</td>\n",
       "      <td>Porcine circovirus type 3 (PCV3) is regularly ...</td>\n",
       "      <td>0</td>\n",
       "    </tr>\n",
       "    <tr>\n",
       "      <th>1</th>\n",
       "      <td>35451025</td>\n",
       "      <td>Imputation of non-genotyped F1 dams to improve...</td>\n",
       "      <td>This study investigated using imputed genotype...</td>\n",
       "      <td>0</td>\n",
       "    </tr>\n",
       "    <tr>\n",
       "      <th>2</th>\n",
       "      <td>34859764</td>\n",
       "      <td>Proposed multidimensional pain outcome methodo...</td>\n",
       "      <td>Castration of male piglets in the United State...</td>\n",
       "      <td>0</td>\n",
       "    </tr>\n",
       "    <tr>\n",
       "      <th>3</th>\n",
       "      <td>35143972</td>\n",
       "      <td>Nanostructured lipid carriers loaded with an a...</td>\n",
       "      <td>Alopecia is a condition associated with differ...</td>\n",
       "      <td>0</td>\n",
       "    </tr>\n",
       "    <tr>\n",
       "      <th>4</th>\n",
       "      <td>34872491</td>\n",
       "      <td>Genome-wide expression of the residual lung re...</td>\n",
       "      <td>BACKGROUND: Acute or chronic irreversible resp...</td>\n",
       "      <td>0</td>\n",
       "    </tr>\n",
       "  </tbody>\n",
       "</table>\n",
       "</div>"
      ],
      "text/plain": [
       "       PMID                                              Title  \\\n",
       "0  34902587  Detection of porcine circovirus type 3 DNA in ...   \n",
       "1  35451025  Imputation of non-genotyped F1 dams to improve...   \n",
       "2  34859764  Proposed multidimensional pain outcome methodo...   \n",
       "3  35143972  Nanostructured lipid carriers loaded with an a...   \n",
       "4  34872491  Genome-wide expression of the residual lung re...   \n",
       "\n",
       "                                            Abstract  Label  \n",
       "0  Porcine circovirus type 3 (PCV3) is regularly ...      0  \n",
       "1  This study investigated using imputed genotype...      0  \n",
       "2  Castration of male piglets in the United State...      0  \n",
       "3  Alopecia is a condition associated with differ...      0  \n",
       "4  BACKGROUND: Acute or chronic irreversible resp...      0  "
      ]
     },
     "execution_count": 13,
     "metadata": {},
     "output_type": "execute_result"
    }
   ],
   "source": [
    "# Define file path\n",
    "file_name = \"test_unlabeled.tsv\"\n",
    "final_path = os.path.join(file_path, file_name) \n",
    "\n",
    "# Load tsv file\n",
    "inference_batch = pd.read_csv(final_path, sep='\\t')\n",
    "print(f\"The inference batch has {inference_batch.shape[0]} observations and {inference_batch.shape[1]} columns.\")\n",
    "inference_batch.head()"
   ]
  },
  {
   "cell_type": "markdown",
   "metadata": {},
   "source": [
    "### Training Corpus"
   ]
  },
  {
   "cell_type": "code",
   "execution_count": null,
   "metadata": {},
   "outputs": [
    {
     "name": "stdout",
     "output_type": "stream",
     "text": [
      "Shape of the original dataset: (11278, 4) \n",
      "\n"
     ]
    },
    {
     "data": {
      "text/html": [
       "<div>\n",
       "<style scoped>\n",
       "    .dataframe tbody tr th:only-of-type {\n",
       "        vertical-align: middle;\n",
       "    }\n",
       "\n",
       "    .dataframe tbody tr th {\n",
       "        vertical-align: top;\n",
       "    }\n",
       "\n",
       "    .dataframe thead th {\n",
       "        text-align: right;\n",
       "    }\n",
       "</style>\n",
       "<table border=\"1\" class=\"dataframe\">\n",
       "  <thead>\n",
       "    <tr style=\"text-align: right;\">\n",
       "      <th></th>\n",
       "      <th>PMID</th>\n",
       "      <th>Title</th>\n",
       "      <th>Abstract</th>\n",
       "      <th>Category</th>\n",
       "    </tr>\n",
       "  </thead>\n",
       "  <tbody>\n",
       "    <tr>\n",
       "      <th>0</th>\n",
       "      <td>17179536</td>\n",
       "      <td>Variance component analysis of quantitative tr...</td>\n",
       "      <td>In a previous study, QTL for carcass compositi...</td>\n",
       "      <td>1</td>\n",
       "    </tr>\n",
       "    <tr>\n",
       "      <th>1</th>\n",
       "      <td>17177700</td>\n",
       "      <td>Single nucleotide polymorphism identification,...</td>\n",
       "      <td>Pituitary adenylate cyclase-activating polypep...</td>\n",
       "      <td>0</td>\n",
       "    </tr>\n",
       "    <tr>\n",
       "      <th>2</th>\n",
       "      <td>17129674</td>\n",
       "      <td>Genetic resistance to Sarcocystis miescheriana...</td>\n",
       "      <td>Clinical and parasitological traits of Sarcocy...</td>\n",
       "      <td>0</td>\n",
       "    </tr>\n",
       "    <tr>\n",
       "      <th>3</th>\n",
       "      <td>17121599</td>\n",
       "      <td>Results of a whole-genome quantitative trait l...</td>\n",
       "      <td>A whole-genome quantitative trait locus (QTL) ...</td>\n",
       "      <td>1</td>\n",
       "    </tr>\n",
       "    <tr>\n",
       "      <th>4</th>\n",
       "      <td>17057239</td>\n",
       "      <td>Unexpected high polymorphism at the FABP4 gene...</td>\n",
       "      <td>Fatty acid bing protein 4 (FABP4) plays a key ...</td>\n",
       "      <td>0</td>\n",
       "    </tr>\n",
       "  </tbody>\n",
       "</table>\n",
       "</div>"
      ],
      "text/plain": [
       "       PMID                                              Title  \\\n",
       "0  17179536  Variance component analysis of quantitative tr...   \n",
       "1  17177700  Single nucleotide polymorphism identification,...   \n",
       "2  17129674  Genetic resistance to Sarcocystis miescheriana...   \n",
       "3  17121599  Results of a whole-genome quantitative trait l...   \n",
       "4  17057239  Unexpected high polymorphism at the FABP4 gene...   \n",
       "\n",
       "                                            Abstract  Category  \n",
       "0  In a previous study, QTL for carcass compositi...         1  \n",
       "1  Pituitary adenylate cyclase-activating polypep...         0  \n",
       "2  Clinical and parasitological traits of Sarcocy...         0  \n",
       "3  A whole-genome quantitative trait locus (QTL) ...         1  \n",
       "4  Fatty acid bing protein 4 (FABP4) plays a key ...         0  "
      ]
     },
     "execution_count": 10,
     "metadata": {},
     "output_type": "execute_result"
    }
   ],
   "source": [
    "# Define file path\n",
    "file_name = \"QTL_text.json\"\n",
    "final_path = os.path.join(file_path, file_name) \n",
    "\n",
    "# Load json file\n",
    "df = pd.read_json(final_path)\n",
    "df = df.drop(columns=['Journal'])\n",
    "print(f\"Shape of the original dataset: {df.shape}\", \"\\n\")\n",
    "df.head()"
   ]
  },
  {
   "cell_type": "markdown",
   "metadata": {},
   "source": [
    "## Exploratory Analysis"
   ]
  },
  {
   "cell_type": "code",
   "execution_count": 21,
   "metadata": {},
   "outputs": [
    {
     "name": "stdout",
     "output_type": "stream",
     "text": [
      "1,007 of 11,278 are related abstracts (8.93%).\n"
     ]
    }
   ],
   "source": [
    "topic_non_related, topic_related = df[\"Category\"].value_counts()[0], df[\"Category\"].value_counts()[1]\n",
    "print(\"{:,} of {:,} are related abstracts ({:.2%}).\".format(topic_related, df.shape[0], topic_related/df.shape[0]))"
   ]
  },
  {
   "cell_type": "markdown",
   "metadata": {},
   "source": [
    "The classes are very imbalanced, so we need to be careful interpreting our accuracy."
   ]
  },
  {
   "cell_type": "code",
   "execution_count": 22,
   "metadata": {},
   "outputs": [
    {
     "name": "stdout",
     "output_type": "stream",
     "text": [
      "Always predicting the abstract is not related to the subject will give us 91.07% accuracy.\n"
     ]
    }
   ],
   "source": [
    "non_related_percent = 1 - (topic_related/df.shape[0])\n",
    "\n",
    "print(\"Always predicting the abstract is not related to the subject will give us {:.2%} accuracy.\".format(non_related_percent))"
   ]
  },
  {
   "cell_type": "markdown",
   "metadata": {},
   "source": [
    "### Pre-Processing"
   ]
  },
  {
   "cell_type": "code",
   "execution_count": 23,
   "metadata": {},
   "outputs": [
    {
     "name": "stderr",
     "output_type": "stream",
     "text": [
      "[nltk_data] Downloading package punkt to /Users/gabrielvictorgomesferr\n",
      "[nltk_data]     eira/opt/anaconda3/envs/nlp_env/nltk_data...\n",
      "[nltk_data]   Package punkt is already up-to-date!\n",
      "[nltk_data] Downloading package stopwords to /Users/gabrielvictorgomes\n",
      "[nltk_data]     ferreira/opt/anaconda3/envs/nlp_env/nltk_data...\n",
      "[nltk_data]   Package stopwords is already up-to-date!\n"
     ]
    }
   ],
   "source": [
    "import spacy\n",
    "nlp_spacy = spacy.load(\"en_core_web_sm\")\n",
    "\n",
    "import nltk\n",
    "nltk.download('punkt')\n",
    "nltk.download('stopwords')\n",
    "from nltk.tokenize import word_tokenize\n",
    "from nltk.corpus import stopwords, wordnet\n",
    "from nltk.stem import WordNetLemmatizer\n",
    "import string\n",
    "import re\n",
    "\n",
    "# Set stop words\n",
    "stop_words = set(stopwords.words('english'))\n",
    "\n",
    "# Set lemmatizer\n",
    "lemmatizer = WordNetLemmatizer()\n",
    "\n",
    "# Defining NLP Pre-Processing steps. These steps were the one that highlighted the most on my exploration phase\n",
    "def nlp_preprocessing(abstract_tokenized):\n",
    "    abstract_tokenized = abstract_tokenized.apply(lambda doc: doc.lower()) # Lowercasing txt\n",
    "    abstract_tokenized = abstract_tokenized.apply(lambda doc: doc.translate(str.maketrans(\"\", \"\", string.punctuation))) # Removing punctuations from the text\n",
    "    # abstract_tokenized = abstract_tokenized.apply(lambda doc: re.sub(r\"\\d+\", \"\", doc)) # Removing numbers from the text\n",
    "    abstract_tokenized = abstract_tokenized.apply(lambda doc: [token for token in word_tokenize(doc) if token not in stop_words]) # Tokenizing and removing stop words from the text\n",
    "    abstract_tokenized = abstract_tokenized.apply(lambda doc: [lemmatizer.lemmatize(token, pos=wordnet.NOUN) for token in doc]) # Convert words to their base\n",
    "    abstract_tokenized = abstract_tokenized.apply(lambda doc: [token.strip() for token in doc if token.strip() and len(token)>1]) # Removing extra space\n",
    "    return abstract_tokenized"
   ]
  },
  {
   "cell_type": "code",
   "execution_count": 25,
   "metadata": {},
   "outputs": [
    {
     "data": {
      "text/html": [
       "<div>\n",
       "<style scoped>\n",
       "    .dataframe tbody tr th:only-of-type {\n",
       "        vertical-align: middle;\n",
       "    }\n",
       "\n",
       "    .dataframe tbody tr th {\n",
       "        vertical-align: top;\n",
       "    }\n",
       "\n",
       "    .dataframe thead th {\n",
       "        text-align: right;\n",
       "    }\n",
       "</style>\n",
       "<table border=\"1\" class=\"dataframe\">\n",
       "  <thead>\n",
       "    <tr style=\"text-align: right;\">\n",
       "      <th></th>\n",
       "      <th>PMID</th>\n",
       "      <th>Title</th>\n",
       "      <th>Abstract</th>\n",
       "      <th>Category</th>\n",
       "      <th>title_nltk_token</th>\n",
       "      <th>abstract_nltk_token</th>\n",
       "    </tr>\n",
       "  </thead>\n",
       "  <tbody>\n",
       "    <tr>\n",
       "      <th>0</th>\n",
       "      <td>17179536</td>\n",
       "      <td>Variance component analysis of quantitative tr...</td>\n",
       "      <td>In a previous study, QTL for carcass compositi...</td>\n",
       "      <td>1</td>\n",
       "      <td>[variance, component, analysis, quantitative, ...</td>\n",
       "      <td>[previous, study, qtl, carcass, composition, m...</td>\n",
       "    </tr>\n",
       "    <tr>\n",
       "      <th>1</th>\n",
       "      <td>17177700</td>\n",
       "      <td>Single nucleotide polymorphism identification,...</td>\n",
       "      <td>Pituitary adenylate cyclase-activating polypep...</td>\n",
       "      <td>0</td>\n",
       "      <td>[single, nucleotide, polymorphism, identificat...</td>\n",
       "      <td>[pituitary, adenylate, cyclaseactivating, poly...</td>\n",
       "    </tr>\n",
       "    <tr>\n",
       "      <th>2</th>\n",
       "      <td>17129674</td>\n",
       "      <td>Genetic resistance to Sarcocystis miescheriana...</td>\n",
       "      <td>Clinical and parasitological traits of Sarcocy...</td>\n",
       "      <td>0</td>\n",
       "      <td>[genetic, resistance, sarcocystis, miescherian...</td>\n",
       "      <td>[clinical, parasitological, trait, sarcocystis...</td>\n",
       "    </tr>\n",
       "    <tr>\n",
       "      <th>3</th>\n",
       "      <td>17121599</td>\n",
       "      <td>Results of a whole-genome quantitative trait l...</td>\n",
       "      <td>A whole-genome quantitative trait locus (QTL) ...</td>\n",
       "      <td>1</td>\n",
       "      <td>[result, wholegenome, quantitative, trait, loc...</td>\n",
       "      <td>[wholegenome, quantitative, trait, locus, qtl,...</td>\n",
       "    </tr>\n",
       "    <tr>\n",
       "      <th>4</th>\n",
       "      <td>17057239</td>\n",
       "      <td>Unexpected high polymorphism at the FABP4 gene...</td>\n",
       "      <td>Fatty acid bing protein 4 (FABP4) plays a key ...</td>\n",
       "      <td>0</td>\n",
       "      <td>[unexpected, high, polymorphism, fabp4, gene, ...</td>\n",
       "      <td>[fatty, acid, bing, protein, fabp4, play, key,...</td>\n",
       "    </tr>\n",
       "  </tbody>\n",
       "</table>\n",
       "</div>"
      ],
      "text/plain": [
       "       PMID                                              Title  \\\n",
       "0  17179536  Variance component analysis of quantitative tr...   \n",
       "1  17177700  Single nucleotide polymorphism identification,...   \n",
       "2  17129674  Genetic resistance to Sarcocystis miescheriana...   \n",
       "3  17121599  Results of a whole-genome quantitative trait l...   \n",
       "4  17057239  Unexpected high polymorphism at the FABP4 gene...   \n",
       "\n",
       "                                            Abstract  Category  \\\n",
       "0  In a previous study, QTL for carcass compositi...         1   \n",
       "1  Pituitary adenylate cyclase-activating polypep...         0   \n",
       "2  Clinical and parasitological traits of Sarcocy...         0   \n",
       "3  A whole-genome quantitative trait locus (QTL) ...         1   \n",
       "4  Fatty acid bing protein 4 (FABP4) plays a key ...         0   \n",
       "\n",
       "                                    title_nltk_token  \\\n",
       "0  [variance, component, analysis, quantitative, ...   \n",
       "1  [single, nucleotide, polymorphism, identificat...   \n",
       "2  [genetic, resistance, sarcocystis, miescherian...   \n",
       "3  [result, wholegenome, quantitative, trait, loc...   \n",
       "4  [unexpected, high, polymorphism, fabp4, gene, ...   \n",
       "\n",
       "                                 abstract_nltk_token  \n",
       "0  [previous, study, qtl, carcass, composition, m...  \n",
       "1  [pituitary, adenylate, cyclaseactivating, poly...  \n",
       "2  [clinical, parasitological, trait, sarcocystis...  \n",
       "3  [wholegenome, quantitative, trait, locus, qtl,...  \n",
       "4  [fatty, acid, bing, protein, fabp4, play, key,...  "
      ]
     },
     "execution_count": 25,
     "metadata": {},
     "output_type": "execute_result"
    }
   ],
   "source": [
    "# Applying pre-defined pre-processing steps\n",
    "df_processed = df.copy()\n",
    "df_processed['title_nltk_token'] = nlp_preprocessing(df_processed['Title'])\n",
    "df_processed['abstract_nltk_token'] = nlp_preprocessing(df_processed['Abstract'])\n",
    "df_processed.head()"
   ]
  },
  {
   "cell_type": "markdown",
   "metadata": {},
   "source": [
    "### Key-phrase extraction"
   ]
  },
  {
   "cell_type": "code",
   "execution_count": 26,
   "metadata": {},
   "outputs": [],
   "source": [
    "import gensim\n",
    "from gensim.models.phrases import Phraser, Phrases"
   ]
  },
  {
   "cell_type": "code",
   "execution_count": 31,
   "metadata": {},
   "outputs": [
    {
     "data": {
      "text/plain": [
       "['variance',\n",
       " 'component',\n",
       " 'analysis',\n",
       " 'quantitative',\n",
       " 'trait',\n",
       " 'locus',\n",
       " 'pork',\n",
       " 'carcass',\n",
       " 'composition',\n",
       " 'meat',\n",
       " 'quality',\n",
       " 'ssc4',\n",
       " 'ssc11']"
      ]
     },
     "execution_count": 31,
     "metadata": {},
     "output_type": "execute_result"
    }
   ],
   "source": [
    "df_processed['title_nltk_token'][0]"
   ]
  },
  {
   "cell_type": "code",
   "execution_count": 36,
   "metadata": {},
   "outputs": [],
   "source": [
    "def gensim_key_phrase_extractor(list_of_tokens):\n",
    "    bigram = Phraser(Phrases(list_of_tokens, min_count=2, threshold=15))\n",
    "    bigram_token = [bigram[doc] for doc in list_of_tokens]\n",
    "    return bigram_token"
   ]
  },
  {
   "cell_type": "code",
   "execution_count": 37,
   "metadata": {},
   "outputs": [
    {
     "data": {
      "text/html": [
       "<div>\n",
       "<style scoped>\n",
       "    .dataframe tbody tr th:only-of-type {\n",
       "        vertical-align: middle;\n",
       "    }\n",
       "\n",
       "    .dataframe tbody tr th {\n",
       "        vertical-align: top;\n",
       "    }\n",
       "\n",
       "    .dataframe thead th {\n",
       "        text-align: right;\n",
       "    }\n",
       "</style>\n",
       "<table border=\"1\" class=\"dataframe\">\n",
       "  <thead>\n",
       "    <tr style=\"text-align: right;\">\n",
       "      <th></th>\n",
       "      <th>PMID</th>\n",
       "      <th>Title</th>\n",
       "      <th>Abstract</th>\n",
       "      <th>Category</th>\n",
       "      <th>title_nltk_token</th>\n",
       "      <th>abstract_nltk_token</th>\n",
       "      <th>title_bigram</th>\n",
       "      <th>abstract_bigram</th>\n",
       "    </tr>\n",
       "  </thead>\n",
       "  <tbody>\n",
       "    <tr>\n",
       "      <th>0</th>\n",
       "      <td>17179536</td>\n",
       "      <td>Variance component analysis of quantitative tr...</td>\n",
       "      <td>In a previous study, QTL for carcass compositi...</td>\n",
       "      <td>1</td>\n",
       "      <td>[variance, component, analysis, quantitative, ...</td>\n",
       "      <td>[previous, study, qtl, carcass, composition, m...</td>\n",
       "      <td>[variance_component, analysis, quantitative_tr...</td>\n",
       "      <td>[previous_study, qtl, carcass_composition, mea...</td>\n",
       "    </tr>\n",
       "    <tr>\n",
       "      <th>1</th>\n",
       "      <td>17177700</td>\n",
       "      <td>Single nucleotide polymorphism identification,...</td>\n",
       "      <td>Pituitary adenylate cyclase-activating polypep...</td>\n",
       "      <td>0</td>\n",
       "      <td>[single, nucleotide, polymorphism, identificat...</td>\n",
       "      <td>[pituitary, adenylate, cyclaseactivating, poly...</td>\n",
       "      <td>[single_nucleotide, polymorphism, identificati...</td>\n",
       "      <td>[pituitary, adenylate, cyclaseactivating, poly...</td>\n",
       "    </tr>\n",
       "    <tr>\n",
       "      <th>2</th>\n",
       "      <td>17129674</td>\n",
       "      <td>Genetic resistance to Sarcocystis miescheriana...</td>\n",
       "      <td>Clinical and parasitological traits of Sarcocy...</td>\n",
       "      <td>0</td>\n",
       "      <td>[genetic, resistance, sarcocystis, miescherian...</td>\n",
       "      <td>[clinical, parasitological, trait, sarcocystis...</td>\n",
       "      <td>[genetic, resistance, sarcocystis, miescherian...</td>\n",
       "      <td>[clinical, parasitological, trait, sarcocystis...</td>\n",
       "    </tr>\n",
       "    <tr>\n",
       "      <th>3</th>\n",
       "      <td>17121599</td>\n",
       "      <td>Results of a whole-genome quantitative trait l...</td>\n",
       "      <td>A whole-genome quantitative trait locus (QTL) ...</td>\n",
       "      <td>1</td>\n",
       "      <td>[result, wholegenome, quantitative, trait, loc...</td>\n",
       "      <td>[wholegenome, quantitative, trait, locus, qtl,...</td>\n",
       "      <td>[result, wholegenome, quantitative_trait, locu...</td>\n",
       "      <td>[wholegenome, quantitative_trait, locus_qtl, s...</td>\n",
       "    </tr>\n",
       "    <tr>\n",
       "      <th>4</th>\n",
       "      <td>17057239</td>\n",
       "      <td>Unexpected high polymorphism at the FABP4 gene...</td>\n",
       "      <td>Fatty acid bing protein 4 (FABP4) plays a key ...</td>\n",
       "      <td>0</td>\n",
       "      <td>[unexpected, high, polymorphism, fabp4, gene, ...</td>\n",
       "      <td>[fatty, acid, bing, protein, fabp4, play, key,...</td>\n",
       "      <td>[unexpected, high, polymorphism, fabp4_gene, u...</td>\n",
       "      <td>[fatty_acid, bing, protein_fabp4, play_key, ro...</td>\n",
       "    </tr>\n",
       "  </tbody>\n",
       "</table>\n",
       "</div>"
      ],
      "text/plain": [
       "       PMID                                              Title  \\\n",
       "0  17179536  Variance component analysis of quantitative tr...   \n",
       "1  17177700  Single nucleotide polymorphism identification,...   \n",
       "2  17129674  Genetic resistance to Sarcocystis miescheriana...   \n",
       "3  17121599  Results of a whole-genome quantitative trait l...   \n",
       "4  17057239  Unexpected high polymorphism at the FABP4 gene...   \n",
       "\n",
       "                                            Abstract  Category  \\\n",
       "0  In a previous study, QTL for carcass compositi...         1   \n",
       "1  Pituitary adenylate cyclase-activating polypep...         0   \n",
       "2  Clinical and parasitological traits of Sarcocy...         0   \n",
       "3  A whole-genome quantitative trait locus (QTL) ...         1   \n",
       "4  Fatty acid bing protein 4 (FABP4) plays a key ...         0   \n",
       "\n",
       "                                    title_nltk_token  \\\n",
       "0  [variance, component, analysis, quantitative, ...   \n",
       "1  [single, nucleotide, polymorphism, identificat...   \n",
       "2  [genetic, resistance, sarcocystis, miescherian...   \n",
       "3  [result, wholegenome, quantitative, trait, loc...   \n",
       "4  [unexpected, high, polymorphism, fabp4, gene, ...   \n",
       "\n",
       "                                 abstract_nltk_token  \\\n",
       "0  [previous, study, qtl, carcass, composition, m...   \n",
       "1  [pituitary, adenylate, cyclaseactivating, poly...   \n",
       "2  [clinical, parasitological, trait, sarcocystis...   \n",
       "3  [wholegenome, quantitative, trait, locus, qtl,...   \n",
       "4  [fatty, acid, bing, protein, fabp4, play, key,...   \n",
       "\n",
       "                                        title_bigram  \\\n",
       "0  [variance_component, analysis, quantitative_tr...   \n",
       "1  [single_nucleotide, polymorphism, identificati...   \n",
       "2  [genetic, resistance, sarcocystis, miescherian...   \n",
       "3  [result, wholegenome, quantitative_trait, locu...   \n",
       "4  [unexpected, high, polymorphism, fabp4_gene, u...   \n",
       "\n",
       "                                     abstract_bigram  \n",
       "0  [previous_study, qtl, carcass_composition, mea...  \n",
       "1  [pituitary, adenylate, cyclaseactivating, poly...  \n",
       "2  [clinical, parasitological, trait, sarcocystis...  \n",
       "3  [wholegenome, quantitative_trait, locus_qtl, s...  \n",
       "4  [fatty_acid, bing, protein_fabp4, play_key, ro...  "
      ]
     },
     "execution_count": 37,
     "metadata": {},
     "output_type": "execute_result"
    }
   ],
   "source": [
    "# Bigram\n",
    "df_processed['title_bigram'] = gensim_key_phrase_extractor(df_processed['title_nltk_token'])\n",
    "df_processed['abstract_bigram'] = gensim_key_phrase_extractor(df_processed['abstract_nltk_token'])\n",
    "\n",
    "df_processed.head()"
   ]
  },
  {
   "cell_type": "markdown",
   "metadata": {},
   "source": [
    "### Document Distribution"
   ]
  },
  {
   "cell_type": "code",
   "execution_count": null,
   "metadata": {},
   "outputs": [],
   "source": [
    "import matplotlib.pyplot as plt"
   ]
  },
  {
   "cell_type": "markdown",
   "metadata": {},
   "source": [
    "#### Length of Pure text"
   ]
  },
  {
   "cell_type": "code",
   "execution_count": 43,
   "metadata": {},
   "outputs": [
    {
     "data": {
      "image/png": "[encoded data removed]",
      "text/plain": [
       "<Figure size 640x480 with 1 Axes>"
      ]
     },
     "metadata": {},
     "output_type": "display_data"
    }
   ],
   "source": [
    "# Tokenize first\n",
    "doc_lengths = [len(doc.split()) for doc in df_processed['Abstract']]\n",
    "\n",
    "plt.hist(doc_lengths, bins=20, edgecolor='black')\n",
    "plt.xlabel('Document Length (words)')\n",
    "plt.ylabel('Number of Documents')\n",
    "plt.title('Distribution of Document Lengths')\n",
    "plt.show()\n"
   ]
  },
  {
   "cell_type": "markdown",
   "metadata": {},
   "source": [
    "#### Lenght of tokens"
   ]
  },
  {
   "cell_type": "code",
   "execution_count": null,
   "metadata": {},
   "outputs": [
    {
     "data": {
      "image/png": "[encoded data removed]",
      "text/plain": [
       "<Figure size 640x480 with 1 Axes>"
      ]
     },
     "metadata": {},
     "output_type": "display_data"
    }
   ],
   "source": [
    "doc_lengths = [len(doc) for doc in df_processed['title_nltk_token']]\n",
    "\n",
    "plt.hist(doc_lengths, bins=30, edgecolor='black')\n",
    "plt.xlabel('Document Length (tokens)')\n",
    "plt.ylabel('Number of Documents')\n",
    "plt.title('Distribution of Document Lengths')\n",
    "plt.show()"
   ]
  },
  {
   "cell_type": "code",
   "execution_count": 40,
   "metadata": {},
   "outputs": [
    {
     "data": {
      "image/png": "[encoded data removed]",
      "text/plain": [
       "<Figure size 640x480 with 1 Axes>"
      ]
     },
     "metadata": {},
     "output_type": "display_data"
    }
   ],
   "source": [
    "import matplotlib.pyplot as plt\n",
    "\n",
    "doc_lengths = [len(doc) for doc in df_processed['abstract_nltk_token']]\n",
    "\n",
    "plt.hist(doc_lengths, bins=30, edgecolor='black')\n",
    "plt.xlabel('Document Length (tokens)')\n",
    "plt.ylabel('Number of Documents')\n",
    "plt.title('Distribution of Document Lengths')\n",
    "plt.show()"
   ]
  },
  {
   "cell_type": "markdown",
   "metadata": {},
   "source": [
    "#### Category 0 Vs. 1"
   ]
  },
  {
   "cell_type": "code",
   "execution_count": null,
   "metadata": {},
   "outputs": [],
   "source": [
    "category_0 = df_processed[df_processed['Category'] == 0]\n",
    "category_1 = df_processed[df_processed['Category'] == 1]"
   ]
  },
  {
   "cell_type": "code",
   "execution_count": 50,
   "metadata": {},
   "outputs": [
    {
     "data": {
      "image/png": "[encoded data removed]",
      "text/plain": [
       "<Figure size 640x480 with 1 Axes>"
      ]
     },
     "metadata": {},
     "output_type": "display_data"
    }
   ],
   "source": [
    "doc_lengths = [len(doc) for doc in category_0['abstract_nltk_token']]\n",
    "\n",
    "plt.hist(doc_lengths, bins=30, edgecolor='black')\n",
    "plt.xlabel('Document Length (tokens)')\n",
    "plt.ylabel('Number of Documents')\n",
    "plt.title('Distribution of Document Lengths')\n",
    "plt.show()"
   ]
  },
  {
   "cell_type": "code",
   "execution_count": 46,
   "metadata": {},
   "outputs": [
    {
     "data": {
      "image/png": "[encoded data removed]",
      "text/plain": [
       "<Figure size 640x480 with 1 Axes>"
      ]
     },
     "metadata": {},
     "output_type": "display_data"
    }
   ],
   "source": [
    "doc_lengths = [len(doc) for doc in category_1['abstract_nltk_token']]\n",
    "\n",
    "plt.hist(doc_lengths, bins=30, edgecolor='black')\n",
    "plt.xlabel('Document Length (tokens)')\n",
    "plt.ylabel('Number of Documents')\n",
    "plt.title('Distribution of Document Lengths')\n",
    "plt.show()"
   ]
  }
 ],
 "metadata": {
  "kernelspec": {
   "display_name": "nlp_env",
   "language": "python",
   "name": "python3"
  },
  "language_info": {
   "codemirror_mode": {
    "name": "ipython",
    "version": 3
   },
   "file_extension": ".py",
   "mimetype": "text/x-python",
   "name": "python",
   "nbconvert_exporter": "python",
   "pygments_lexer": "ipython3",
   "version": "3.10.16"
  }
 },
 "nbformat": 4,
 "nbformat_minor": 2
}
