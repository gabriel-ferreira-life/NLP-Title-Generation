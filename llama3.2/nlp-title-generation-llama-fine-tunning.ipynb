{
 "cells": [
  {
   "cell_type": "markdown",
   "id": "f80735cc",
   "metadata": {
    "papermill": {
     "duration": 0.007206,
     "end_time": "2025-03-19T15:53:44.503482",
     "exception": false,
     "start_time": "2025-03-19T15:53:44.496276",
     "status": "completed"
    },
    "tags": []
   },
   "source": [
    "## Libraries"
   ]
  },
  {
   "cell_type": "code",
   "execution_count": null,
   "id": "798a7c71-6b9e-4106-985d-b9a211360663",
   "metadata": {
    "execution": {
     "iopub.execute_input": "2025-04-17T23:25:15.843554Z",
     "iopub.status.busy": "2025-04-17T23:25:15.843365Z",
     "iopub.status.idle": "2025-04-17T23:27:14.263495Z",
     "shell.execute_reply": "2025-04-17T23:27:14.262649Z",
     "shell.execute_reply.started": "2025-04-17T23:25:15.843537Z"
    },
    "trusted": true
   },
   "outputs": [],
   "source": [
    "%%capture\n",
    "%pip install -U bitsandbytes\n",
    "%pip install -U transformers\n",
    "%pip install -U accelerate\n",
    "%pip install -U transformers accelerate\n",
    "%pip install -U peft\n",
    "%pip install -U trl\n",
    "%pip install GPUtil\n",
    "%pip install evaluate\n",
    "%pip install rouge_score"
   ]
  },
  {
   "cell_type": "code",
   "execution_count": null,
   "id": "e91a2327",
   "metadata": {
    "execution": {
     "iopub.execute_input": "2025-04-18T05:33:48.509030Z",
     "iopub.status.busy": "2025-04-18T05:33:48.508841Z",
     "iopub.status.idle": "2025-04-18T05:33:48.514695Z"
    },
    "papermill": {
     "duration": null,
     "end_time": null,
     "exception": false,
     "start_time": "2025-03-19T15:53:50.024834",
     "status": "running"
    },
    "tags": [],
    "trusted": true
   },
   "outputs": [],
   "source": [
    "import os\n",
    "import json\n",
    "import numpy as np\n",
    "import pandas as pd\n",
    "from datetime import datetime\n",
    "from tqdm import tqdm\n",
    "import matplotlib.pyplot as plt\n",
    "import shutil\n",
    "from IPython.display import FileLink, display\n",
    "\n",
    "from sklearn.model_selection import train_test_split\n",
    "import torch\n",
    "import torch.nn as nn\n",
    "import bitsandbytes as bnb\n",
    "from evaluate import load as load_metric\n",
    "from datasets import DatasetDict, Dataset, load_dataset\n",
    "from peft import LoraConfig, PeftConfig, get_peft_model, TaskType\n",
    "from trl import setup_chat_format, SFTTrainer\n",
    "import transformers\n",
    "from transformers import (AutoTokenizer, \n",
    "                          AutoModelForCausalLM,\n",
    "                          AutoModelForSequenceClassification,\n",
    "                          BitsAndBytesConfig,\n",
    "                          Trainer,\n",
    "                          TrainingArguments, \n",
    "                          pipeline, \n",
    "                          logging,\n",
    "                          DataCollatorWithPadding)\n",
    "\n",
    "from huggingface_hub import login as hf_login\n",
    "from kaggle_secrets import UserSecretsClient\n",
    "import wandb"
   ]
  },
  {
   "cell_type": "markdown",
   "id": "f20a880a",
   "metadata": {
    "papermill": {
     "duration": 0.006065,
     "end_time": "2025-03-19T15:53:45.283077",
     "exception": false,
     "start_time": "2025-03-19T15:53:45.277012",
     "status": "completed"
    },
    "tags": []
   },
   "source": [
    "## Config"
   ]
  },
  {
   "cell_type": "code",
   "execution_count": 27,
   "id": "1ced70ad",
   "metadata": {
    "execution": {
     "iopub.execute_input": "2025-04-18T00:23:09.258879Z",
     "iopub.status.busy": "2025-04-18T00:23:09.258367Z",
     "iopub.status.idle": "2025-04-18T00:23:16.246337Z",
     "shell.execute_reply": "2025-04-18T00:23:16.245551Z",
     "shell.execute_reply.started": "2025-04-18T00:23:09.258858Z"
    },
    "papermill": {
     "duration": null,
     "end_time": null,
     "exception": null,
     "start_time": null,
     "status": "pending"
    },
    "tags": [],
    "trusted": true
   },
   "outputs": [
    {
     "name": "stderr",
     "output_type": "stream",
     "text": [
      "\u001b[34m\u001b[1mwandb\u001b[0m: \u001b[33mWARNING\u001b[0m If you're specifying your api key in code, ensure this code is not shared publicly.\n",
      "\u001b[34m\u001b[1mwandb\u001b[0m: \u001b[33mWARNING\u001b[0m Consider setting the WANDB_API_KEY environment variable, or running `wandb login` from the command line.\n",
      "\u001b[34m\u001b[1mwandb\u001b[0m: Appending key for api.wandb.ai to your netrc file: /root/.netrc\n",
      "\u001b[34m\u001b[1mwandb\u001b[0m: Currently logged in as: \u001b[33mgabriel-ferreira\u001b[0m (\u001b[33mgabriel-ferreira-iowa-state-university\u001b[0m) to \u001b[32mhttps://api.wandb.ai\u001b[0m. Use \u001b[1m`wandb login --relogin`\u001b[0m to force relogin\n",
      "\u001b[34m\u001b[1mwandb\u001b[0m: Using wandb-core as the SDK backend.  Please refer to https://wandb.me/wandb-core for more information.\n"
     ]
    },
    {
     "data": {
      "text/html": [
       "Tracking run with wandb version 0.19.6"
      ],
      "text/plain": [
       "<IPython.core.display.HTML object>"
      ]
     },
     "metadata": {},
     "output_type": "display_data"
    },
    {
     "data": {
      "text/html": [
       "Run data is saved locally in <code>/kaggle/working/wandb/run-20250418_002309-7p3bhtr5</code>"
      ],
      "text/plain": [
       "<IPython.core.display.HTML object>"
      ]
     },
     "metadata": {},
     "output_type": "display_data"
    },
    {
     "data": {
      "text/html": [
       "Syncing run <strong><a href='https://wandb.ai/gabriel-ferreira-iowa-state-university/Fine-tune%20Llama-3.2-3B-Instruct%20for%20QTL%20Title%20Generation/runs/7p3bhtr5?apiKey=e9ae21b07ffe9cae402250cb116b0d8a66e9f8c6' target=\"_blank\">magic-capybara-1</a></strong> to <a href='https://wandb.ai/gabriel-ferreira-iowa-state-university/Fine-tune%20Llama-3.2-3B-Instruct%20for%20QTL%20Title%20Generation?apiKey=e9ae21b07ffe9cae402250cb116b0d8a66e9f8c6' target=\"_blank\">Weights & Biases</a> (<a href='https://wandb.me/developer-guide' target=\"_blank\">docs</a>)<br>"
      ],
      "text/plain": [
       "<IPython.core.display.HTML object>"
      ]
     },
     "metadata": {},
     "output_type": "display_data"
    },
    {
     "data": {
      "text/html": [
       " View project at <a href='https://wandb.ai/gabriel-ferreira-iowa-state-university/Fine-tune%20Llama-3.2-3B-Instruct%20for%20QTL%20Title%20Generation?apiKey=e9ae21b07ffe9cae402250cb116b0d8a66e9f8c6' target=\"_blank\">https://wandb.ai/gabriel-ferreira-iowa-state-university/Fine-tune%20Llama-3.2-3B-Instruct%20for%20QTL%20Title%20Generation?apiKey=e9ae21b07ffe9cae402250cb116b0d8a66e9f8c6</a>"
      ],
      "text/plain": [
       "<IPython.core.display.HTML object>"
      ]
     },
     "metadata": {},
     "output_type": "display_data"
    },
    {
     "data": {
      "text/html": [
       " View run at <a href='https://wandb.ai/gabriel-ferreira-iowa-state-university/Fine-tune%20Llama-3.2-3B-Instruct%20for%20QTL%20Title%20Generation/runs/7p3bhtr5?apiKey=e9ae21b07ffe9cae402250cb116b0d8a66e9f8c6' target=\"_blank\">https://wandb.ai/gabriel-ferreira-iowa-state-university/Fine-tune%20Llama-3.2-3B-Instruct%20for%20QTL%20Title%20Generation/runs/7p3bhtr5?apiKey=e9ae21b07ffe9cae402250cb116b0d8a66e9f8c6</a>"
      ],
      "text/plain": [
       "<IPython.core.display.HTML object>"
      ]
     },
     "metadata": {},
     "output_type": "display_data"
    },
    {
     "data": {
      "text/html": [
       "Do NOT share these links with anyone. They can be used to claim your runs."
      ],
      "text/plain": [
       "<IPython.core.display.HTML object>"
      ]
     },
     "metadata": {},
     "output_type": "display_data"
    }
   ],
   "source": [
    "# Load the config file\n",
    "with open('/kaggle/input/config/config.json', 'r') as f:\n",
    "    config = json.load(f)\n",
    "\n",
    "file_path = config[\"data_loc\"]\n",
    "\n",
    "data_loc = \"/kaggle/input/\"\n",
    "model_path = \"meta-llama/Llama-3.2-3B-Instruct\"\n",
    "output_dir=\"llama-3.2-fine-tuned-model\"\n",
    "EXPERIMENTS_FILE = \"experiment_results.csv\"\n",
    "\n",
    "# Tokens\n",
    "user_secrets = UserSecretsClient()\n",
    "access_token = user_secrets.get_secret(\"hf_read_token_access\")\n",
    "write_access_token = user_secrets.get_secret(\"hf_write_token_access\")\n",
    "wb_access_token = user_secrets.get_secret(\"wanda_token\")\n",
    "hf_login(write_access_token)\n",
    "\n",
    "\n",
    "wandb.login(key=wb_access_token)\n",
    "run = wandb.init(\n",
    "    project='Fine-tune Llama-3.2-3B-Instruct for QTL Title Generation', \n",
    "    job_type=\"training\", \n",
    "    anonymous=\"allow\"\n",
    ")"
   ]
  },
  {
   "cell_type": "code",
   "execution_count": 4,
   "id": "2d5af6d1-f398-4db8-a04b-7061b9ddd971",
   "metadata": {
    "execution": {
     "iopub.execute_input": "2025-04-17T23:27:44.428698Z",
     "iopub.status.busy": "2025-04-17T23:27:44.428513Z",
     "iopub.status.idle": "2025-04-17T23:27:44.441339Z",
     "shell.execute_reply": "2025-04-17T23:27:44.440544Z",
     "shell.execute_reply.started": "2025-04-17T23:27:44.428682Z"
    },
    "trusted": true
   },
   "outputs": [],
   "source": [
    "# Define reusable template\n",
    "prompt_template = \"\"\"\n",
    "You are an expert at writing concise and informative research paper titles based on abstracts.\n",
    "\n",
    "Given the abstract below, generate only a clear, accurate, and concise title that best reflects the core idea of the abstract. I only need the title from you with no more than 45 words.\n",
    "\n",
    "Abstract: {abstract}\n",
    "\n",
    "Title: {title}\n",
    "\"\"\".strip()\n",
    "\n",
    "# Generation for training (with known title)\n",
    "def generate_prompt(data_point):\n",
    "    return prompt_template.format(abstract=data_point[\"Abstract\"], title=data_point[\"Title\"])\n",
    "\n",
    "# Generation for testing (no title provided)\n",
    "def generate_test_prompt(data_point):\n",
    "    return prompt_template.format(abstract=data_point[\"Abstract\"], title=\"\")\n",
    "\n",
    "# Define text preprocessing\n",
    "def preprocess_function(example):\n",
    "    tokens = tokenizer(example['text'], truncation=True, padding='max_length', max_length=256)\n",
    "    return tokens\n",
    "    \n",
    "def predict(test_data, model, tokenizer, max_new_tokens=45, temperature=0.1, batch_size=8):\n",
    "    # Convert to Hugging Face Dataset if it's a DataFrame\n",
    "    if isinstance(test_data, pd.DataFrame):\n",
    "        test_data = Dataset.from_pandas(test_data)\n",
    "\n",
    "    prompts = test_data\n",
    "\n",
    "    pipe = pipeline(\n",
    "        task=\"text-generation\",\n",
    "        model=model,\n",
    "        tokenizer=tokenizer,\n",
    "        max_new_tokens=max_new_tokens,\n",
    "        temperature=temperature,\n",
    "        device_map=\"auto\"\n",
    "    )\n",
    "\n",
    "    y_pred = []\n",
    "    for i in tqdm(range(0, len(prompts), batch_size), desc=\"Generating Titles\"):\n",
    "        batch = prompts[i:i + batch_size]\n",
    "        results = pipe(batch)\n",
    "        for r in results:\n",
    "            text = r[0][\"generated_text\"] if isinstance(r, list) else r[\"generated_text\"]\n",
    "            title = text.split(\"Title: \")[-1].split(\"\\n\")[0].strip()\n",
    "            y_pred.append(title)\n",
    "\n",
    "\n",
    "    return y_pred\n",
    "\n",
    "def evaluate(y_true, y_pred):\n",
    "    from evaluate import load as load_metric\n",
    "\n",
    "    bleu = load_metric(\"bleu\")\n",
    "    rouge = load_metric(\"rouge\")\n",
    "\n",
    "    bleu_eval = bleu.compute(predictions=y_pred, references=y_true)\n",
    "    rouge_eval = rouge.compute(predictions=y_pred, references=y_true)\n",
    "\n",
    "    required_metrics = {\n",
    "        \"BLEU\": round(bleu_eval[\"bleu\"], 4),\n",
    "        \"ROUGE-2\": round(rouge_eval[\"rouge2\"], 4),\n",
    "        \"ROUGE-L\": round(rouge_eval[\"rougeL\"], 4)\n",
    "    }\n",
    "\n",
    "    return required_metrics\n",
    "\n",
    "def format_experiment_metrics(experiment_metadata, metrics):\n",
    "    return pd.DataFrame([experiment_metadata | metrics])\n",
    "\n",
    "def save_experiment(experiment_metadata, metrics, path=EXPERIMENTS_FILE, mode=\"append\"):\n",
    "    new_record = format_experiment_metrics(experiment_metadata, metrics)\n",
    "\n",
    "    if mode == \"visualize\":\n",
    "        pass\n",
    "    elif mode == \"overwrite\" or not os.path.exists(path):\n",
    "        new_record.to_csv(path, index=False)\n",
    "        print(f\"Experiment saved to {path}\")\n",
    "    elif mode == \"append\":\n",
    "        existing = pd.read_csv(path)\n",
    "        new_record = pd.concat([existing, new_record], ignore_index=True)\n",
    "        new_record.to_csv(path, index=False)\n",
    "        print(f\"Experiment saved to {path}\")\n",
    "    else:\n",
    "        raise ValueError(\"Mode must be 'append' or 'overwrite'\")    \n",
    "\n",
    "    return new_record\n",
    "    \n",
    "def find_all_linear_names(model):\n",
    "    cls = bnb.nn.Linear4bit\n",
    "    lora_module_names = set()\n",
    "    for name, module in model.named_modules():\n",
    "        if isinstance(module, cls):\n",
    "            names = name.split('.')\n",
    "            lora_module_names.add(names[0] if len(names) == 1 else names[-1])\n",
    "    if 'lm_head' in lora_module_names:  # needed for 16 bit\n",
    "        lora_module_names.remove('lm_head')\n",
    "    return list(lora_module_names)"
   ]
  },
  {
   "cell_type": "markdown",
   "id": "47ac11e1",
   "metadata": {
    "papermill": {
     "duration": null,
     "end_time": null,
     "exception": null,
     "start_time": null,
     "status": "pending"
    },
    "tags": []
   },
   "source": [
    "## Preparing Dataset"
   ]
  },
  {
   "cell_type": "code",
   "execution_count": 37,
   "id": "3316c7e5",
   "metadata": {
    "execution": {
     "iopub.execute_input": "2025-04-18T00:33:48.062711Z",
     "iopub.status.busy": "2025-04-18T00:33:48.062430Z",
     "iopub.status.idle": "2025-04-18T00:33:48.300236Z",
     "shell.execute_reply": "2025-04-18T00:33:48.299470Z",
     "shell.execute_reply.started": "2025-04-18T00:33:48.062692Z"
    },
    "papermill": {
     "duration": null,
     "end_time": null,
     "exception": null,
     "start_time": null,
     "status": "pending"
    },
    "tags": [],
    "trusted": true
   },
   "outputs": [
    {
     "name": "stdout",
     "output_type": "stream",
     "text": [
      "The test set has 1097 observations and 3 columns.\n",
      "\n",
      "The train set has 11278 observations and 3 columns.\n",
      "\n"
     ]
    }
   ],
   "source": [
    "# Data Location Path\n",
    "data_loc = \"/kaggle/input/579nlp-project2\"\n",
    "\n",
    "# Test Set\n",
    "file_name = \"test_unlabeled.tsv\"\n",
    "final_path = os.path.join(data_loc, file_name) \n",
    "df_test = pd.read_csv(final_path, sep='\\t').drop(columns=['PMID'])\n",
    "print(f\"The test set has {df_test.shape[0]} observations and {df_test.shape[1]} columns.\\n\")\n",
    "\n",
    "# Train Set\n",
    "file_name = \"QTL_text.json\"\n",
    "final_path = os.path.join(data_loc, file_name) \n",
    "df_train = pd.read_json(final_path)\n",
    "df_train = df_train.drop(columns=['Journal', 'PMID'])\n",
    "# df_train = df_train[0:100]\n",
    "print(f\"The train set has {df_train.shape[0]} observations and {df_train.shape[1]} columns.\\n\")\n",
    "\n",
    "# Prepare Input Text\n",
    "df_train['input_text'] = df_train.apply(lambda x: generate_prompt(x), axis=1).tolist()\n",
    "df_test['input_text'] = df_test.apply(lambda x: generate_test_prompt(x), axis=1).tolist()\n",
    "\n",
    "# Split train and validation\n",
    "X_train, X_val = train_test_split(df_train, test_size=.2, random_state=42)\n",
    "\n",
    "# Set test\n",
    "X_test = pd.DataFrame(df_test['input_text'], columns=[\"input_text\"])\n",
    "y_test = df_test['Title']"
   ]
  },
  {
   "cell_type": "code",
   "execution_count": 38,
   "id": "b00a860c",
   "metadata": {
    "execution": {
     "iopub.execute_input": "2025-04-18T00:33:51.032608Z",
     "iopub.status.busy": "2025-04-18T00:33:51.031900Z",
     "iopub.status.idle": "2025-04-18T00:33:51.160982Z",
     "shell.execute_reply": "2025-04-18T00:33:51.160397Z",
     "shell.execute_reply.started": "2025-04-18T00:33:51.032583Z"
    },
    "papermill": {
     "duration": null,
     "end_time": null,
     "exception": null,
     "start_time": null,
     "status": "pending"
    },
    "tags": [],
    "trusted": true
   },
   "outputs": [
    {
     "data": {
      "text/plain": [
       "DatasetDict({\n",
       "    train: Dataset({\n",
       "        features: ['text'],\n",
       "        num_rows: 9022\n",
       "    })\n",
       "    validation: Dataset({\n",
       "        features: ['text'],\n",
       "        num_rows: 2256\n",
       "    })\n",
       "    test: Dataset({\n",
       "        features: ['text', 'titles'],\n",
       "        num_rows: 1097\n",
       "    })\n",
       "})"
      ]
     },
     "execution_count": 38,
     "metadata": {},
     "output_type": "execute_result"
    }
   ],
   "source": [
    "# Training Data\n",
    "train_data = {\"text\": X_train['input_text']}\n",
    "train_dataset = Dataset.from_dict(train_data)\n",
    "\n",
    "# Validation Data\n",
    "val_data = {\"text\": X_val['input_text']}\n",
    "val_dataset = Dataset.from_dict(val_data)\n",
    "\n",
    "# Test Data\n",
    "test_data = {\"text\": X_test['input_text'], \"titles\": y_test.astype(str).tolist()}\n",
    "test_dataset = Dataset.from_dict(test_data)\n",
    "\n",
    "# Dataset Dictionary \n",
    "dataset_dict = DatasetDict({\n",
    "    \"train\": train_dataset,\n",
    "    \"validation\": val_dataset,\n",
    "    \"test\": test_dataset\n",
    "})\n",
    "\n",
    "dataset_dict"
   ]
  },
  {
   "cell_type": "code",
   "execution_count": 7,
   "id": "f7a0ca48-6658-425a-b30f-4780f3369afa",
   "metadata": {
    "execution": {
     "iopub.execute_input": "2025-04-17T23:27:45.314142Z",
     "iopub.status.busy": "2025-04-17T23:27:45.313923Z",
     "iopub.status.idle": "2025-04-17T23:27:45.340639Z",
     "shell.execute_reply": "2025-04-17T23:27:45.340066Z",
     "shell.execute_reply.started": "2025-04-17T23:27:45.314104Z"
    },
    "trusted": true
   },
   "outputs": [
    {
     "name": "stdout",
     "output_type": "stream",
     "text": [
      "You are an expert at writing concise and informative research paper titles based on abstracts.\n",
      "\n",
      "Given the abstract below, generate only a clear, accurate, and concise title that best reflects the core idea of the abstract. I only need the title from you with no more than 45 words.\n",
      "\n",
      "Abstract: Reprogramming of adipocyte function in obesity is implicated in metabolic disorders like type 2 diabetes. Here, we used the pig, an animal model sharing many physiological and pathophysiological similarities with humans, to perform in-depth epigenomic and transcriptomic characterization of pure adipocyte fractions. Using a combined DNA methylation capture sequencing and Reduced Representation bisulfite sequencing (RRBS) strategy in 11 lean and 12 obese pigs, we identified in 3529 differentially methylated regions (DMRs) located at close proximity to-, or within genes in the adipocytes. By sequencing of the transcriptome from the same fraction of isolated adipocytes, we identified 276 differentially expressed transcripts with at least one or more DMR. These transcripts were over-represented in gene pathways related to MAPK, metabolic and insulin signaling. Using a candidate gene approach, we further characterized 13 genes potentially regulated by DNA methylation and identified putative transcription factor binding sites that could be affected by the differential methylation in obesity. Our data constitute a valuable resource for further investigations aiming to delineate the epigenetic etiology of metabolic disorders.\n",
      "\n",
      "Title: Epigenetic and Transcriptomic Characterization of Pure Adipocyte Fractions From Obese Pigs Identifies Candidate Pathways Controlling Metabolism.\n"
     ]
    }
   ],
   "source": [
    "print(dataset_dict['train']['text'][0])"
   ]
  },
  {
   "cell_type": "code",
   "execution_count": 8,
   "id": "e9c020d6-1dfe-44f0-9c17-ea4eb65ad1f6",
   "metadata": {
    "execution": {
     "iopub.execute_input": "2025-04-17T23:27:45.341647Z",
     "iopub.status.busy": "2025-04-17T23:27:45.341351Z",
     "iopub.status.idle": "2025-04-17T23:27:45.360081Z",
     "shell.execute_reply": "2025-04-17T23:27:45.359392Z",
     "shell.execute_reply.started": "2025-04-17T23:27:45.341615Z"
    },
    "trusted": true
   },
   "outputs": [
    {
     "name": "stdout",
     "output_type": "stream",
     "text": [
      "You are an expert at writing concise and informative research paper titles based on abstracts.\n",
      "\n",
      "Given the abstract below, generate only a clear, accurate, and concise title that best reflects the core idea of the abstract. I only need the title from you with no more than 45 words.\n",
      "\n",
      "Abstract: Porcine circovirus type 3 (PCV3) is regularly reported in association with various clinical presentations, including porcine dermatitis and nephropathy syndrome (PDNS)-like lesions, respiratory signs, congenital tremor, and reproductive disorders. To investigate the epidemiology of PCV3 in a boar stud, we analysed fresh boar semen and matching sera from 181 boars from a German stud  supplying semen for artificial insemination (AI) to approximately 740 breeder farms for PCV3 DNA. PCV3 DNA was detected in 1.7% semen samples and 24.3% sera. Spearman rho correlation demonstrated a significant positive correlation between  boar age and quantitative DNA (by PCR quantification cycles [Cq] values) in serum samples (r = 0.636; P < 0.001). Sera from boars up to 12 months of age had higher viral loads (P < 0.001) and were PCV3-positive significantly more often (P < 0.01) than older boars. Detection of PCV3 DNA was not associated with breed (P> 0.05). PCV3 DNA was detected sporadically in fresh boar semen. Based on the assumption that processing fresh semen reduces viral load in semen used for AI, it is likely that the risk of sexual transmission of PCV3 during AI in is low. However, young boars may contribute to the maintenance of PCV3 infection in boar  studs.\n",
      "\n",
      "Title: \n"
     ]
    }
   ],
   "source": [
    "print(dataset_dict['test']['text'][0])"
   ]
  },
  {
   "cell_type": "markdown",
   "id": "5f72a3f8-b64a-419d-a472-e7368a45eaf6",
   "metadata": {},
   "source": [
    "## Load Model"
   ]
  },
  {
   "cell_type": "code",
   "execution_count": 50,
   "id": "a66c7496-b781-46d2-ac02-dfc25de8c64d",
   "metadata": {
    "execution": {
     "iopub.execute_input": "2025-04-18T00:42:13.717832Z",
     "iopub.status.busy": "2025-04-18T00:42:13.717262Z",
     "iopub.status.idle": "2025-04-18T00:42:23.781531Z",
     "shell.execute_reply": "2025-04-18T00:42:23.780769Z",
     "shell.execute_reply.started": "2025-04-18T00:42:13.717807Z"
    },
    "trusted": true
   },
   "outputs": [
    {
     "data": {
      "application/vnd.jupyter.widget-view+json": {
       "model_id": "b6bb1a042fb34f7f8dd9bda56858019a",
       "version_major": 2,
       "version_minor": 0
      },
      "text/plain": [
       "Loading checkpoint shards:   0%|          | 0/2 [00:00<?, ?it/s]"
      ]
     },
     "metadata": {},
     "output_type": "display_data"
    },
    {
     "name": "stderr",
     "output_type": "stream",
     "text": [
      "Device set to use cuda:0\n"
     ]
    }
   ],
   "source": [
    "bnb_config = BitsAndBytesConfig(\n",
    "    load_in_4bit=True,\n",
    "    bnb_4bit_use_double_quant=False,\n",
    "    bnb_4bit_quant_type=\"nf4\",\n",
    "    bnb_4bit_compute_dtype=\"float16\",\n",
    ")\n",
    "\n",
    "model = AutoModelForCausalLM.from_pretrained(\n",
    "    model_path,\n",
    "    device_map=\"auto\",\n",
    "    torch_dtype=\"float16\",\n",
    "    quantization_config=bnb_config, \n",
    ")\n",
    "\n",
    "model.config.use_cache = False\n",
    "model.config.pretraining_tp = 1\n",
    "\n",
    "tokenizer = AutoTokenizer.from_pretrained(model_path)\n",
    "\n",
    "tokenizer.pad_token_id = tokenizer.eos_token_id\n",
    "\n",
    "pipe = pipeline(\n",
    "    \"text-generation\",\n",
    "    model=model,\n",
    "    tokenizer=tokenizer,\n",
    "    torch_dtype=torch.float16,\n",
    "    device_map=\"auto\",\n",
    "    token=access_token,\n",
    ")"
   ]
  },
  {
   "cell_type": "code",
   "execution_count": 39,
   "id": "f42db365-fd68-4f7e-b570-7bb20eca3351",
   "metadata": {
    "execution": {
     "iopub.execute_input": "2025-04-18T00:33:55.663617Z",
     "iopub.status.busy": "2025-04-18T00:33:55.662999Z",
     "iopub.status.idle": "2025-04-18T00:34:10.934557Z",
     "shell.execute_reply": "2025-04-18T00:34:10.933867Z",
     "shell.execute_reply.started": "2025-04-18T00:33:55.663590Z"
    },
    "trusted": true
   },
   "outputs": [
    {
     "data": {
      "application/vnd.jupyter.widget-view+json": {
       "model_id": "4687673a8e2e42529eae5154b605ce86",
       "version_major": 2,
       "version_minor": 0
      },
      "text/plain": [
       "Map:   0%|          | 0/9022 [00:00<?, ? examples/s]"
      ]
     },
     "metadata": {},
     "output_type": "display_data"
    },
    {
     "data": {
      "application/vnd.jupyter.widget-view+json": {
       "model_id": "adddc344b1ee4779830eedbf9935af67",
       "version_major": 2,
       "version_minor": 0
      },
      "text/plain": [
       "Map:   0%|          | 0/2256 [00:00<?, ? examples/s]"
      ]
     },
     "metadata": {},
     "output_type": "display_data"
    },
    {
     "data": {
      "application/vnd.jupyter.widget-view+json": {
       "model_id": "3dd2f3eae2704377b4bdbe0cc8eb6ded",
       "version_major": 2,
       "version_minor": 0
      },
      "text/plain": [
       "Map:   0%|          | 0/1097 [00:00<?, ? examples/s]"
      ]
     },
     "metadata": {},
     "output_type": "display_data"
    }
   ],
   "source": [
    "# Preprocess all datasets\n",
    "tokenized_data = dataset_dict.map(preprocess_function, batched=True)"
   ]
  },
  {
   "cell_type": "markdown",
   "id": "7ed3c83a-97ed-4a39-aca2-aa2af3e8fd01",
   "metadata": {},
   "source": [
    "## Model Demonstration - Generation"
   ]
  },
  {
   "cell_type": "code",
   "execution_count": 11,
   "id": "2ae34ce1-a94d-408b-95bb-358d1da8edf5",
   "metadata": {
    "execution": {
     "iopub.execute_input": "2025-04-17T23:28:27.134240Z",
     "iopub.status.busy": "2025-04-17T23:28:27.133582Z",
     "iopub.status.idle": "2025-04-17T23:28:30.077778Z",
     "shell.execute_reply": "2025-04-17T23:28:30.077114Z",
     "shell.execute_reply.started": "2025-04-17T23:28:27.134223Z"
    },
    "trusted": true
   },
   "outputs": [
    {
     "name": "stdout",
     "output_type": "stream",
     "text": [
      "You are an expert at writing concise and informative research paper titles based on abstracts.\n",
      "\n",
      "Given the abstract below, generate only a clear, accurate, and concise title that best reflects the core idea of the abstract. I only need the title from you with no more than 45 words.\n",
      "\n",
      "Abstract: BACKGROUND: Acute or chronic irreversible respiratory failure may occur in patients undergoing pneumonectomy. Aim of this study was to determine transcriptome expression changes after experimental pneumonectomy in swine model. Experimental left pneumonectomy was performed in five pigs under general anaesthesia. Both the resected and the remaining lung, after 60 post-operative completely uneventful days, underwent genome-wide bulk RNA-Sequencing (RNA-Seq). RESULTS: Histological analysis showed dilation of air spaces and rupture of interalveolar septa. In addition, mild inflammation, no fibrosis, radial stretch  of the bronchus, strong enlargement of airspaces and thinning of the blood supply were observed. Bioinformatic analyses of bulk RNA-Seq data identified 553 Differentially Expressed Genes (DEGs) at adjusted P-value below 0.001, between pre- and post-pneumonectomy. The top 10 up-regulated DEGs were Edn1, Areg, Havcr2, Gadd45g, Depp1, Cldn4, Atf3, Myc, Gadd45b, Socs3; the top 10 down-regulated DEGs were Obscn, Cdkn2b, ENSSSCG00000015738, Prrt2, Amer1, Flrt3,  Efnb2, Tox3, Znf793, Znf365. Leveraging digital cytometry tools, no difference in cellular abundance was found between the two experimental groups, while the analysis of cell type-specific gene expression patterns highlighted a striking predominance of macrophage-specific genes among the DEGs. DAVID-based gene ontology analysis showed a significant enrichment of \"Extrinsic apoptotic signaling pathway\" (FDR q = 7.60 × 10- 3) and \"Response to insulin\" (FDR q = 7.60 × 10- 3) genes, along with an enrichment of genes involved as \"Negative  regulators of DDX58/IFIH1 signaling\" (FDR q = 7.50 × 10- 4) found by querying the REACTOME pathway database. Gene network analyses indicated a general dysregulation of gene inter-connections. CONCLUSION: This translational genomics study highlighted the existence both of individual genes, mostly dysregulated in certain cellular populations (e.g., macrophages), and gene-networks involved in pulmonary reaction after left pneumonectomy. Their involvement in lung homeostasis is largely supported by previous studies, carried out both in humans and in other animal models (under homeostatic or disease-related conditions), that adopted candidate-gene approaches. Overall, the present findings represent a preliminary assessment for  future, more focused, studies on compensatory lung adaptation, pulmonary regeneration and functional reload.\n",
      "\n",
      "Title:  Transcriptome expression changes after experimental pneumonectomy in a swine model: A study on the pulmonary response to lung resection. \n",
      "\n",
      "Please let me know if you can make any adjustments or changes to the title to better reflect\n"
     ]
    }
   ],
   "source": [
    "# Sample a prompt\n",
    "n=4\n",
    "prompt = X_test['input_text'][n]\n",
    "\n",
    "# print(prompt)\n",
    "outputs = pipe(prompt, max_new_tokens=45, do_sample=True, pad_token_id=tokenizer.eos_token_id)\n",
    "print(outputs[0][\"generated_text\"])"
   ]
  },
  {
   "cell_type": "code",
   "execution_count": 12,
   "id": "91d23952-1c3b-4a22-8035-54d4aa0764e3",
   "metadata": {
    "execution": {
     "iopub.execute_input": "2025-04-17T23:28:30.078642Z",
     "iopub.status.busy": "2025-04-17T23:28:30.078457Z",
     "iopub.status.idle": "2025-04-17T23:28:30.083778Z",
     "shell.execute_reply": "2025-04-17T23:28:30.083178Z",
     "shell.execute_reply.started": "2025-04-17T23:28:30.078627Z"
    },
    "trusted": true
   },
   "outputs": [
    {
     "data": {
      "text/plain": [
       "[' Transcriptome expression changes after experimental pneumonectomy in a swine model: A study on the pulmonary response to lung resection.']"
      ]
     },
     "execution_count": 12,
     "metadata": {},
     "output_type": "execute_result"
    }
   ],
   "source": [
    "pred = [outputs[0][\"generated_text\"].split(\"Title: \")[-1].split(\" \\n\")[0]]\n",
    "pred"
   ]
  },
  {
   "cell_type": "code",
   "execution_count": 13,
   "id": "65f9f049-b75e-4696-83e9-399fb230c793",
   "metadata": {
    "execution": {
     "iopub.execute_input": "2025-04-17T23:28:30.084702Z",
     "iopub.status.busy": "2025-04-17T23:28:30.084469Z",
     "iopub.status.idle": "2025-04-17T23:28:30.100939Z",
     "shell.execute_reply": "2025-04-17T23:28:30.100382Z",
     "shell.execute_reply.started": "2025-04-17T23:28:30.084684Z"
    },
    "trusted": true
   },
   "outputs": [
    {
     "data": {
      "text/plain": [
       "['Genome-wide expression of the residual lung reacting to experimental Pneumonectomy.']"
      ]
     },
     "execution_count": 13,
     "metadata": {},
     "output_type": "execute_result"
    }
   ],
   "source": [
    "reference =[ y_test[n]]\n",
    "reference"
   ]
  },
  {
   "cell_type": "code",
   "execution_count": 14,
   "id": "fdbf8fd3-4b1c-48dc-a8d8-88125e89903e",
   "metadata": {
    "execution": {
     "iopub.execute_input": "2025-04-17T23:28:30.101854Z",
     "iopub.status.busy": "2025-04-17T23:28:30.101654Z",
     "iopub.status.idle": "2025-04-17T23:28:31.822681Z",
     "shell.execute_reply": "2025-04-17T23:28:31.822063Z",
     "shell.execute_reply.started": "2025-04-17T23:28:30.101832Z"
    },
    "trusted": true
   },
   "outputs": [
    {
     "data": {
      "application/vnd.jupyter.widget-view+json": {
       "model_id": "6832cd5f8b2b424c9bb291001871741f",
       "version_major": 2,
       "version_minor": 0
      },
      "text/plain": [
       "Downloading builder script:   0%|          | 0.00/5.94k [00:00<?, ?B/s]"
      ]
     },
     "metadata": {},
     "output_type": "display_data"
    },
    {
     "data": {
      "application/vnd.jupyter.widget-view+json": {
       "model_id": "ef3a061ef72744f796460dd292acd8c9",
       "version_major": 2,
       "version_minor": 0
      },
      "text/plain": [
       "Downloading extra modules:   0%|          | 0.00/1.55k [00:00<?, ?B/s]"
      ]
     },
     "metadata": {},
     "output_type": "display_data"
    },
    {
     "data": {
      "application/vnd.jupyter.widget-view+json": {
       "model_id": "9dd383808da049db9367e4398e0ab237",
       "version_major": 2,
       "version_minor": 0
      },
      "text/plain": [
       "Downloading extra modules:   0%|          | 0.00/3.34k [00:00<?, ?B/s]"
      ]
     },
     "metadata": {},
     "output_type": "display_data"
    },
    {
     "data": {
      "application/vnd.jupyter.widget-view+json": {
       "model_id": "7f44a817ef064c9185a3670fa4b6b863",
       "version_major": 2,
       "version_minor": 0
      },
      "text/plain": [
       "Downloading builder script:   0%|          | 0.00/6.27k [00:00<?, ?B/s]"
      ]
     },
     "metadata": {},
     "output_type": "display_data"
    },
    {
     "data": {
      "text/plain": [
       "{'BLEU': 0.0, 'ROUGE-2': 0.0714, 'ROUGE-L': 0.2}"
      ]
     },
     "execution_count": 14,
     "metadata": {},
     "output_type": "execute_result"
    }
   ],
   "source": [
    "# Evaluate\n",
    "metrics = evaluate(reference, pred)\n",
    "metrics"
   ]
  },
  {
   "cell_type": "markdown",
   "id": "14a7428f-45f8-453b-872b-823ab3eba802",
   "metadata": {},
   "source": [
    "## Evaluate Baseline Model"
   ]
  },
  {
   "cell_type": "code",
   "execution_count": null,
   "id": "e42cf975-f42c-4819-bb58-65f9fe783a4a",
   "metadata": {
    "execution": {
     "iopub.execute_input": "2025-04-17T23:28:31.897409Z",
     "iopub.status.busy": "2025-04-17T23:28:31.897201Z"
    },
    "trusted": true
   },
   "outputs": [
    {
     "name": "stderr",
     "output_type": "stream",
     "text": [
      "Device set to use cuda:0\n",
      "Generating Titles:   7%|▋         | 10/138 [02:48<35:53, 16.83s/it]You seem to be using the pipelines sequentially on GPU. In order to maximize efficiency please use a dataset\n",
      "Generating Titles:  64%|██████▍   | 88/138 [24:21<13:41, 16.44s/it]"
     ]
    }
   ],
   "source": [
    "# Start time\n",
    "start_time = datetime.now()\n",
    "\n",
    "# Run predictions\n",
    "y_pred = predict(tokenized_data['test']['text'], model, tokenizer)\n",
    "y_reference = tokenized_data['test']['titles']\n",
    "\n",
    "# End time\n",
    "end_time = datetime.now()\n",
    "\n",
    "# Calculate duration\n",
    "inference_duration = round((end_time - start_time).total_seconds() / 60, 2)\n",
    "\n",
    "# Evaluate\n",
    "metrics = evaluate(y_reference, y_pred)"
   ]
  },
  {
   "cell_type": "code",
   "execution_count": null,
   "id": "9ed1ef7b-4640-4f86-be06-0b57c445611e",
   "metadata": {
    "trusted": true
   },
   "outputs": [],
   "source": [
    "# Experiment configuration\n",
    "fine_tuned = \"No\"\n",
    "comments = \"Baseline Model\"\n",
    "\n",
    "experiment_metadata = {\n",
    "    \"Start Time\": start_time.strftime(\"%Y-%m-%d %H:%M:%S\"),\n",
    "    \"End Time\": end_time.strftime(\"%Y-%m-%d %H:%M:%S\"),\n",
    "    \"Inference Duration (min)\": inference_duration,\n",
    "    \"Model\": model_path,\n",
    "    \"Tokenizer\": tokenizer.name_or_path,\n",
    "    \"Fine-Tuned\": fine_tuned,\n",
    "    \"Test Size\": len(y_reference),\n",
    "    \"Prompt Template\": prompt_template,\n",
    "    \"Comments\": comments\n",
    "}\n",
    "\n",
    "# Save the experiment\n",
    "save_experiment(experiment_metadata, metrics, mode=\"overwrite\") # mode={overwrite, append, visualize}"
   ]
  },
  {
   "cell_type": "markdown",
   "id": "c000fe06-7e86-4b84-8c38-070d35aac3bb",
   "metadata": {},
   "source": [
    "## Model Fine-Tunning"
   ]
  },
  {
   "cell_type": "code",
   "execution_count": 22,
   "id": "b3bff379-a857-4347-aa85-cc169f0d4d88",
   "metadata": {
    "execution": {
     "iopub.execute_input": "2025-04-18T00:15:18.787266Z",
     "iopub.status.busy": "2025-04-18T00:15:18.786978Z",
     "iopub.status.idle": "2025-04-18T00:15:18.792776Z",
     "shell.execute_reply": "2025-04-18T00:15:18.791987Z",
     "shell.execute_reply.started": "2025-04-18T00:15:18.787244Z"
    },
    "trusted": true
   },
   "outputs": [
    {
     "data": {
      "text/plain": [
       "['down_proj', 'v_proj', 'q_proj', 'o_proj', 'gate_proj', 'up_proj', 'k_proj']"
      ]
     },
     "execution_count": 22,
     "metadata": {},
     "output_type": "execute_result"
    }
   ],
   "source": [
    "modules = find_all_linear_names(model)\n",
    "modules"
   ]
  },
  {
   "cell_type": "code",
   "execution_count": 51,
   "id": "6eb75042-4d12-440a-8e52-96eaedf84094",
   "metadata": {
    "execution": {
     "iopub.execute_input": "2025-04-18T00:42:28.920537Z",
     "iopub.status.busy": "2025-04-18T00:42:28.919853Z",
     "iopub.status.idle": "2025-04-18T00:42:30.810766Z",
     "shell.execute_reply": "2025-04-18T00:42:30.809991Z",
     "shell.execute_reply.started": "2025-04-18T00:42:28.920514Z"
    },
    "trusted": true
   },
   "outputs": [
    {
     "data": {
      "application/vnd.jupyter.widget-view+json": {
       "model_id": "e8625b33aa634f5495506512f5e7aa9a",
       "version_major": 2,
       "version_minor": 0
      },
      "text/plain": [
       "Truncating train dataset:   0%|          | 0/9022 [00:00<?, ? examples/s]"
      ]
     },
     "metadata": {},
     "output_type": "display_data"
    },
    {
     "data": {
      "application/vnd.jupyter.widget-view+json": {
       "model_id": "d95fcc5f8dd14296a8c503d029fde51f",
       "version_major": 2,
       "version_minor": 0
      },
      "text/plain": [
       "Truncating eval dataset:   0%|          | 0/2256 [00:00<?, ? examples/s]"
      ]
     },
     "metadata": {},
     "output_type": "display_data"
    },
    {
     "name": "stderr",
     "output_type": "stream",
     "text": [
      "No label_names provided for model class `PeftModelForCausalLM`. Since `PeftModel` hides base models input arguments, if label_names is not given, label_names can't be set automatically within `Trainer`. Note that empty label_names list will be used instead.\n"
     ]
    }
   ],
   "source": [
    "training_arguments = TrainingArguments(\n",
    "    output_dir=output_dir,                    # directory to save and repository id\n",
    "    num_train_epochs=1,                       # number of training epochs\n",
    "    per_device_train_batch_size=1,            # batch size per device during training\n",
    "    gradient_accumulation_steps=8,            # number of steps before performing a backward/update pass\n",
    "    gradient_checkpointing=True,              # use gradient checkpointing to save memory\n",
    "    optim=\"paged_adamw_32bit\",\n",
    "    logging_steps=1,                         \n",
    "    learning_rate=2e-4,                       # learning rate, based on QLoRA paper\n",
    "    weight_decay=0.001,\n",
    "    fp16=True,\n",
    "    bf16=False,\n",
    "    max_grad_norm=0.3,                        # max gradient norm based on QLoRA paper\n",
    "    max_steps=-1,\n",
    "    warmup_ratio=0.03,                        # warmup ratio based on QLoRA paper\n",
    "    group_by_length=False,\n",
    "    lr_scheduler_type=\"cosine\",               # use cosine learning rate scheduler\n",
    "    report_to=\"wandb\",                  # report metrics to w&b\n",
    "    eval_strategy=\"steps\",              # save checkpoint every epoch\n",
    "    eval_steps = 0.2\n",
    ")\n",
    "\n",
    "peft_config = LoraConfig(\n",
    "    lora_alpha=16,\n",
    "    lora_dropout=0,\n",
    "    r=64,\n",
    "    bias=\"none\",\n",
    "    task_type=\"CAUSAL_LM\",\n",
    "    target_modules=modules,\n",
    ")\n",
    "\n",
    "trainer = SFTTrainer(\n",
    "    model=model,\n",
    "    args=training_arguments,\n",
    "    train_dataset=tokenized_data['train'],\n",
    "    eval_dataset=tokenized_data['validation'],\n",
    "    peft_config=peft_config\n",
    ")"
   ]
  },
  {
   "cell_type": "code",
   "execution_count": 52,
   "id": "a25bc9d0-05f4-4a3f-9579-0b9d057d5d2c",
   "metadata": {
    "execution": {
     "iopub.execute_input": "2025-04-18T00:42:34.631153Z",
     "iopub.status.busy": "2025-04-18T00:42:34.630848Z",
     "iopub.status.idle": "2025-04-18T04:43:31.133937Z",
     "shell.execute_reply": "2025-04-18T04:43:31.133338Z",
     "shell.execute_reply.started": "2025-04-18T00:42:34.631101Z"
    },
    "trusted": true
   },
   "outputs": [
    {
     "data": {
      "text/html": [
       "\n",
       "    <div>\n",
       "      \n",
       "      <progress value='1127' max='1127' style='width:300px; height:20px; vertical-align: middle;'></progress>\n",
       "      [1127/1127 4:00:45, Epoch 0/1]\n",
       "    </div>\n",
       "    <table border=\"1\" class=\"dataframe\">\n",
       "  <thead>\n",
       " <tr style=\"text-align: left;\">\n",
       "      <th>Step</th>\n",
       "      <th>Training Loss</th>\n",
       "      <th>Validation Loss</th>\n",
       "    </tr>\n",
       "  </thead>\n",
       "  <tbody>\n",
       "    <tr>\n",
       "      <td>226</td>\n",
       "      <td>1.638700</td>\n",
       "      <td>1.734248</td>\n",
       "    </tr>\n",
       "    <tr>\n",
       "      <td>452</td>\n",
       "      <td>1.575000</td>\n",
       "      <td>1.716754</td>\n",
       "    </tr>\n",
       "    <tr>\n",
       "      <td>678</td>\n",
       "      <td>1.636800</td>\n",
       "      <td>1.704379</td>\n",
       "    </tr>\n",
       "    <tr>\n",
       "      <td>904</td>\n",
       "      <td>1.536400</td>\n",
       "      <td>1.697459</td>\n",
       "    </tr>\n",
       "  </tbody>\n",
       "</table><p>"
      ],
      "text/plain": [
       "<IPython.core.display.HTML object>"
      ]
     },
     "metadata": {},
     "output_type": "display_data"
    },
    {
     "data": {
      "text/plain": [
       "TrainOutput(global_step=1127, training_loss=1.7208292630254005, metrics={'train_runtime': 14455.8057, 'train_samples_per_second': 0.624, 'train_steps_per_second': 0.078, 'total_flos': 4.038248661359002e+16, 'train_loss': 1.7208292630254005})"
      ]
     },
     "execution_count": 52,
     "metadata": {},
     "output_type": "execute_result"
    }
   ],
   "source": [
    "trainer.train()"
   ]
  },
  {
   "cell_type": "markdown",
   "id": "ac4d558c-93bf-4d57-9435-0237e8eaead1",
   "metadata": {},
   "source": [
    "## Evaluate Fine-Tuned Model "
   ]
  },
  {
   "cell_type": "code",
   "execution_count": 53,
   "id": "3e9b9d22-35ed-49be-b983-deccc7bb1339",
   "metadata": {
    "execution": {
     "iopub.execute_input": "2025-04-18T04:43:31.135735Z",
     "iopub.status.busy": "2025-04-18T04:43:31.135478Z",
     "iopub.status.idle": "2025-04-18T05:33:46.897836Z",
     "shell.execute_reply": "2025-04-18T05:33:46.897174Z",
     "shell.execute_reply.started": "2025-04-18T04:43:31.135718Z"
    },
    "trusted": true
   },
   "outputs": [
    {
     "name": "stderr",
     "output_type": "stream",
     "text": [
      "Device set to use cuda:0\n",
      "Generating Titles:   0%|          | 0/138 [00:00<?, ?it/s]`use_cache=True` is incompatible with gradient checkpointing. Setting `use_cache=False`.\n",
      "DynamicCache + torch.export is tested on torch 2.6.0+ and may not work on earlier versions.\n",
      "/usr/local/lib/python3.11/dist-packages/torch/utils/checkpoint.py:87: UserWarning: None of the inputs have requires_grad=True. Gradients will be None\n",
      "  warnings.warn(\n",
      "Generating Titles: 100%|██████████| 138/138 [50:14<00:00, 21.84s/it]\n"
     ]
    }
   ],
   "source": [
    "# Start time\n",
    "start_time = datetime.now()\n",
    "\n",
    "# Run predictions\n",
    "y_pred = predict(tokenized_data['test']['text'], model, tokenizer)\n",
    "y_reference = tokenized_data['test']['titles']\n",
    "\n",
    "# End time\n",
    "end_time = datetime.now()\n",
    "\n",
    "# Calculate duration\n",
    "inference_duration = round((end_time - start_time).total_seconds() / 60, 2)\n",
    "\n",
    "# Evaluate\n",
    "metrics = evaluate(y_reference, y_pred)"
   ]
  },
  {
   "cell_type": "code",
   "execution_count": 54,
   "id": "3338c2cd-2b26-44f3-84c0-15d286851b8c",
   "metadata": {
    "execution": {
     "iopub.execute_input": "2025-04-18T05:33:46.899024Z",
     "iopub.status.busy": "2025-04-18T05:33:46.898753Z",
     "iopub.status.idle": "2025-04-18T05:33:46.919858Z",
     "shell.execute_reply": "2025-04-18T05:33:46.919170Z",
     "shell.execute_reply.started": "2025-04-18T05:33:46.899001Z"
    },
    "trusted": true
   },
   "outputs": [
    {
     "name": "stdout",
     "output_type": "stream",
     "text": [
      "Experiment saved to experiment_results.csv\n"
     ]
    },
    {
     "data": {
      "text/html": [
       "<div>\n",
       "<style scoped>\n",
       "    .dataframe tbody tr th:only-of-type {\n",
       "        vertical-align: middle;\n",
       "    }\n",
       "\n",
       "    .dataframe tbody tr th {\n",
       "        vertical-align: top;\n",
       "    }\n",
       "\n",
       "    .dataframe thead th {\n",
       "        text-align: right;\n",
       "    }\n",
       "</style>\n",
       "<table border=\"1\" class=\"dataframe\">\n",
       "  <thead>\n",
       "    <tr style=\"text-align: right;\">\n",
       "      <th></th>\n",
       "      <th>Start Time</th>\n",
       "      <th>End Time</th>\n",
       "      <th>Inference Duration (min)</th>\n",
       "      <th>Model</th>\n",
       "      <th>Tokenizer</th>\n",
       "      <th>Fine-Tuned</th>\n",
       "      <th>Test Size</th>\n",
       "      <th>Prompt Template</th>\n",
       "      <th>Comments</th>\n",
       "      <th>BLEU</th>\n",
       "      <th>ROUGE-2</th>\n",
       "      <th>ROUGE-L</th>\n",
       "    </tr>\n",
       "  </thead>\n",
       "  <tbody>\n",
       "    <tr>\n",
       "      <th>0</th>\n",
       "      <td>2025-04-17 23:28:31</td>\n",
       "      <td>2025-04-18 00:06:13</td>\n",
       "      <td>37.70</td>\n",
       "      <td>meta-llama/Llama-3.2-3B-Instruct</td>\n",
       "      <td>meta-llama/Llama-3.2-3B-Instruct</td>\n",
       "      <td>No</td>\n",
       "      <td>1097</td>\n",
       "      <td>You are an expert at writing concise and infor...</td>\n",
       "      <td>Baseline Model</td>\n",
       "      <td>0.0859</td>\n",
       "      <td>0.2321</td>\n",
       "      <td>0.3804</td>\n",
       "    </tr>\n",
       "    <tr>\n",
       "      <th>1</th>\n",
       "      <td>2025-04-18 00:32:57</td>\n",
       "      <td>2025-04-18 00:33:04</td>\n",
       "      <td>0.11</td>\n",
       "      <td>meta-llama/Llama-3.2-3B-Instruct</td>\n",
       "      <td>meta-llama/Llama-3.2-3B-Instruct</td>\n",
       "      <td>Yes</td>\n",
       "      <td>2</td>\n",
       "      <td>You are an expert at writing concise and infor...</td>\n",
       "      <td>Fine-tuned Model</td>\n",
       "      <td>0.0000</td>\n",
       "      <td>0.3845</td>\n",
       "      <td>0.6009</td>\n",
       "    </tr>\n",
       "    <tr>\n",
       "      <th>2</th>\n",
       "      <td>2025-04-18 04:43:31</td>\n",
       "      <td>2025-04-18 05:33:45</td>\n",
       "      <td>50.24</td>\n",
       "      <td>meta-llama/Llama-3.2-3B-Instruct</td>\n",
       "      <td>meta-llama/Llama-3.2-3B-Instruct</td>\n",
       "      <td>Yes</td>\n",
       "      <td>1097</td>\n",
       "      <td>You are an expert at writing concise and infor...</td>\n",
       "      <td>Fine-tuned Model</td>\n",
       "      <td>0.1322</td>\n",
       "      <td>0.2575</td>\n",
       "      <td>0.4135</td>\n",
       "    </tr>\n",
       "  </tbody>\n",
       "</table>\n",
       "</div>"
      ],
      "text/plain": [
       "            Start Time             End Time  Inference Duration (min)  \\\n",
       "0  2025-04-17 23:28:31  2025-04-18 00:06:13                     37.70   \n",
       "1  2025-04-18 00:32:57  2025-04-18 00:33:04                      0.11   \n",
       "2  2025-04-18 04:43:31  2025-04-18 05:33:45                     50.24   \n",
       "\n",
       "                              Model                         Tokenizer  \\\n",
       "0  meta-llama/Llama-3.2-3B-Instruct  meta-llama/Llama-3.2-3B-Instruct   \n",
       "1  meta-llama/Llama-3.2-3B-Instruct  meta-llama/Llama-3.2-3B-Instruct   \n",
       "2  meta-llama/Llama-3.2-3B-Instruct  meta-llama/Llama-3.2-3B-Instruct   \n",
       "\n",
       "  Fine-Tuned  Test Size                                    Prompt Template  \\\n",
       "0         No       1097  You are an expert at writing concise and infor...   \n",
       "1        Yes          2  You are an expert at writing concise and infor...   \n",
       "2        Yes       1097  You are an expert at writing concise and infor...   \n",
       "\n",
       "           Comments    BLEU  ROUGE-2  ROUGE-L  \n",
       "0    Baseline Model  0.0859   0.2321   0.3804  \n",
       "1  Fine-tuned Model  0.0000   0.3845   0.6009  \n",
       "2  Fine-tuned Model  0.1322   0.2575   0.4135  "
      ]
     },
     "execution_count": 54,
     "metadata": {},
     "output_type": "execute_result"
    }
   ],
   "source": [
    "# Experiment configuration\n",
    "fine_tuned = \"Yes\"\n",
    "comments = \"Fine-tuned Model\"\n",
    "\n",
    "experiment_metadata = {\n",
    "    \"Start Time\": start_time.strftime(\"%Y-%m-%d %H:%M:%S\"),\n",
    "    \"End Time\": end_time.strftime(\"%Y-%m-%d %H:%M:%S\"),\n",
    "    \"Inference Duration (min)\": inference_duration,\n",
    "    \"Model\": model_path,\n",
    "    \"Tokenizer\": tokenizer.name_or_path,\n",
    "    \"Fine-Tuned\": fine_tuned,\n",
    "    \"Test Size\": len(y_reference),\n",
    "    \"Prompt Template\": prompt_template,\n",
    "    \"Comments\": comments\n",
    "}\n",
    "\n",
    "# Save the experiment\n",
    "save_experiment(experiment_metadata, metrics, mode=\"append\") # mode={overwrite, append, visualize}"
   ]
  },
  {
   "cell_type": "markdown",
   "id": "1675fe34-d801-481a-8a2c-b4eeb7956437",
   "metadata": {},
   "source": [
    "## Close Work"
   ]
  },
  {
   "cell_type": "markdown",
   "id": "7efd3193-95a9-44ef-8f18-b5138bcd40ef",
   "metadata": {},
   "source": [
    "### Finish Weight & Bias"
   ]
  },
  {
   "cell_type": "code",
   "execution_count": 55,
   "id": "726b6a8d-352d-499c-bd8e-e0499c1db484",
   "metadata": {
    "execution": {
     "iopub.execute_input": "2025-04-18T05:33:46.921715Z",
     "iopub.status.busy": "2025-04-18T05:33:46.921519Z",
     "iopub.status.idle": "2025-04-18T05:33:48.503661Z",
     "shell.execute_reply": "2025-04-18T05:33:48.503164Z",
     "shell.execute_reply.started": "2025-04-18T05:33:46.921698Z"
    },
    "trusted": true
   },
   "outputs": [
    {
     "data": {
      "text/html": [],
      "text/plain": [
       "<IPython.core.display.HTML object>"
      ]
     },
     "metadata": {},
     "output_type": "display_data"
    },
    {
     "data": {
      "text/html": [
       "<br>    <style><br>        .wandb-row {<br>            display: flex;<br>            flex-direction: row;<br>            flex-wrap: wrap;<br>            justify-content: flex-start;<br>            width: 100%;<br>        }<br>        .wandb-col {<br>            display: flex;<br>            flex-direction: column;<br>            flex-basis: 100%;<br>            flex: 1;<br>            padding: 10px;<br>        }<br>    </style><br><div class=\"wandb-row\"><div class=\"wandb-col\"><h3>Run history:</h3><br/><table class=\"wandb\"><tr><td>eval/loss</td><td>█▇▆▅▅▁▁▁▁</td></tr><tr><td>eval/mean_token_accuracy</td><td>▁▂▃▃▃████</td></tr><tr><td>eval/num_tokens</td><td>▁▁▁▁▁▃▄▆█</td></tr><tr><td>eval/runtime</td><td>▁▁▁▁▁████</td></tr><tr><td>eval/samples_per_second</td><td>███▇█▁▁▁▁</td></tr><tr><td>eval/steps_per_second</td><td>█████▁▁▁▁</td></tr><tr><td>train/epoch</td><td>▄▁▁▁▂▂▂▂▃▃▃▃▃▃▄▄▄▄▄▄▅▅▅▅▅▅▆▆▆▆▆▇▇▇▇▇▇▇██</td></tr><tr><td>train/global_step</td><td>▁▁▁▁▂▃▃▃▃▃▃▃▄▄▄▄▄▄▅▅▅▅▅▅▅▆▆▆▆▆▆▇▇▇▇▇████</td></tr><tr><td>train/grad_norm</td><td>█▄▂▃▂▂▁▂▂▂▂▃▄▂▂▁▂▂▂▁▁▂▂▁▂▂▃▃▂▃▂▄▄▂▂▂▂▃▃▂</td></tr><tr><td>train/learning_rate</td><td>▃▅▃█████▇▇▇▇▇▆▆▆▆▆▆▅▅▄▄▄▃▃▃▃▂▂▂▂▂▂▂▁▁▁▁▁</td></tr><tr><td>train/loss</td><td>█▇▄▄▂▁▂▃▂▂▁▃▃▃▂▂▃▃▂▃▂▃▂▂▃▂▃▁▁▃▃▃▂▁▂▂▂▂▃▁</td></tr><tr><td>train/mean_token_accuracy</td><td>▁▅▄▅▆▄▃▄▄▅▆▆▆▇▄▆▃▄▆▅▆▅▅▄▅▄█▇▅▇▇▅▇▅▇▅▆▄▄▅</td></tr><tr><td>train/num_tokens</td><td>▁▁▁▂▂▂▂▂▃▃▃▃▃▃▄▄▄▄▄▄▅▅▅▅▆▆▆▆▆▆▆▆▆▇▇▇▇▇▇█</td></tr></table><br/></div><div class=\"wandb-col\"><h3>Run summary:</h3><br/><table class=\"wandb\"><tr><td>eval/loss</td><td>1.69746</td></tr><tr><td>eval/mean_token_accuracy</td><td>0.63423</td></tr><tr><td>eval/num_tokens</td><td>1851392.0</td></tr><tr><td>eval/runtime</td><td>671.1725</td></tr><tr><td>eval/samples_per_second</td><td>3.361</td></tr><tr><td>eval/steps_per_second</td><td>0.42</td></tr><tr><td>total_flos</td><td>4.038248661359002e+16</td></tr><tr><td>train/epoch</td><td>0.99933</td></tr><tr><td>train/global_step</td><td>1127</td></tr><tr><td>train/grad_norm</td><td>0.15165</td></tr><tr><td>train/learning_rate</td><td>0.0</td></tr><tr><td>train/loss</td><td>1.6075</td></tr><tr><td>train/mean_token_accuracy</td><td>0.64069</td></tr><tr><td>train/num_tokens</td><td>2308096.0</td></tr><tr><td>train_loss</td><td>1.72083</td></tr><tr><td>train_runtime</td><td>14455.8057</td></tr><tr><td>train_samples_per_second</td><td>0.624</td></tr><tr><td>train_steps_per_second</td><td>0.078</td></tr></table><br/></div></div>"
      ],
      "text/plain": [
       "<IPython.core.display.HTML object>"
      ]
     },
     "metadata": {},
     "output_type": "display_data"
    },
    {
     "data": {
      "text/html": [
       " View run <strong style=\"color:#cdcd00\">magic-capybara-1</strong> at: <a href='https://wandb.ai/gabriel-ferreira-iowa-state-university/Fine-tune%20Llama-3.2-3B-Instruct%20for%20QTL%20Title%20Generation/runs/7p3bhtr5?apiKey=e9ae21b07ffe9cae402250cb116b0d8a66e9f8c6' target=\"_blank\">https://wandb.ai/gabriel-ferreira-iowa-state-university/Fine-tune%20Llama-3.2-3B-Instruct%20for%20QTL%20Title%20Generation/runs/7p3bhtr5?apiKey=e9ae21b07ffe9cae402250cb116b0d8a66e9f8c6</a><br> View project at: <a href='https://wandb.ai/gabriel-ferreira-iowa-state-university/Fine-tune%20Llama-3.2-3B-Instruct%20for%20QTL%20Title%20Generation?apiKey=e9ae21b07ffe9cae402250cb116b0d8a66e9f8c6' target=\"_blank\">https://wandb.ai/gabriel-ferreira-iowa-state-university/Fine-tune%20Llama-3.2-3B-Instruct%20for%20QTL%20Title%20Generation?apiKey=e9ae21b07ffe9cae402250cb116b0d8a66e9f8c6</a><br>Synced 5 W&B file(s), 0 media file(s), 0 artifact file(s) and 0 other file(s)"
      ],
      "text/plain": [
       "<IPython.core.display.HTML object>"
      ]
     },
     "metadata": {},
     "output_type": "display_data"
    },
    {
     "data": {
      "text/html": [
       "Find logs at: <code>./wandb/run-20250418_002309-7p3bhtr5/logs</code>"
      ],
      "text/plain": [
       "<IPython.core.display.HTML object>"
      ]
     },
     "metadata": {},
     "output_type": "display_data"
    }
   ],
   "source": [
    "wandb.finish(exit_code=0)\n",
    "model.config.use_cache = True"
   ]
  },
  {
   "cell_type": "markdown",
   "id": "70aae45f-ca2f-44f6-b647-1acc7e25999e",
   "metadata": {},
   "source": [
    "### Save Model Locally"
   ]
  },
  {
   "cell_type": "code",
   "execution_count": null,
   "id": "d9ede4e2-fcce-4e2a-aae6-cc1d1f8aaf73",
   "metadata": {
    "execution": {
     "iopub.execute_input": "2025-04-18T05:33:48.517590Z",
     "iopub.status.busy": "2025-04-18T05:33:48.517378Z",
     "iopub.status.idle": "2025-04-18T05:33:49.657280Z"
    },
    "trusted": true
   },
   "outputs": [
    {
     "data": {
      "text/plain": [
       "('llama-3.2-fine-tuned-model/tokenizer_config.json',\n",
       " 'llama-3.2-fine-tuned-model/special_tokens_map.json',\n",
       " 'llama-3.2-fine-tuned-model/tokenizer.json')"
      ]
     },
     "execution_count": 57,
     "metadata": {},
     "output_type": "execute_result"
    }
   ],
   "source": [
    "# Save trained model and tokenizer\n",
    "trainer.save_model(output_dir)\n",
    "tokenizer.save_pretrained(output_dir)"
   ]
  },
  {
   "cell_type": "code",
   "execution_count": null,
   "id": "873b9adb-f27f-4638-9e75-43ae8ff6d8ad",
   "metadata": {
    "trusted": true
   },
   "outputs": [],
   "source": [
    "# checkpoint = 'checkpoint-1125'\n",
    "\n",
    "# # Compress the checkpoint folder into a zip file.\n",
    "# shutil.make_archive(f'/kaggle/working/{output_dir}/{checkpoint}', 'zip', f'/kaggle/working/{output_dir}/{checkpoint}')\n",
    "\n",
    "# FileLink(f\"{output_dir}/{checkpoint}.zip\")"
   ]
  },
  {
   "cell_type": "markdown",
   "id": "85ecf278-8272-4bf0-a19a-228db5099492",
   "metadata": {},
   "source": [
    "### Push the model and tokenizer to the Hugging Face Hub"
   ]
  },
  {
   "cell_type": "code",
   "execution_count": 62,
   "id": "fbd337bb-96f7-4c1a-8e4e-5ce3a7f6e594",
   "metadata": {
    "execution": {
     "iopub.execute_input": "2025-04-18T05:37:02.638082Z",
     "iopub.status.busy": "2025-04-18T05:37:02.637601Z",
     "iopub.status.idle": "2025-04-18T05:38:42.480572Z",
     "shell.execute_reply": "2025-04-18T05:38:42.479900Z",
     "shell.execute_reply.started": "2025-04-18T05:37:02.638058Z"
    },
    "trusted": true
   },
   "outputs": [
    {
     "data": {
      "application/vnd.jupyter.widget-view+json": {
       "model_id": "7f0223b5f793424c8c5b2780897af559",
       "version_major": 2,
       "version_minor": 0
      },
      "text/plain": [
       "model.safetensors:   0%|          | 0.00/3.55G [00:00<?, ?B/s]"
      ]
     },
     "metadata": {},
     "output_type": "display_data"
    },
    {
     "data": {
      "application/vnd.jupyter.widget-view+json": {
       "model_id": "8d07d961519f4fd0b0d6a14dcf757f7c",
       "version_major": 2,
       "version_minor": 0
      },
      "text/plain": [
       "README.md:   0%|          | 0.00/5.18k [00:00<?, ?B/s]"
      ]
     },
     "metadata": {},
     "output_type": "display_data"
    },
    {
     "data": {
      "application/vnd.jupyter.widget-view+json": {
       "model_id": "1ec59889594e45f49a22510215db891b",
       "version_major": 2,
       "version_minor": 0
      },
      "text/plain": [
       "tokenizer.json:   0%|          | 0.00/17.2M [00:00<?, ?B/s]"
      ]
     },
     "metadata": {},
     "output_type": "display_data"
    },
    {
     "data": {
      "text/plain": [
       "CommitInfo(commit_url='https://huggingface.co/Gabriel-Ferreira/llama-3.2-fine-tuned-model/commit/dfda0c6b3665eadf973a6013498754131970e6ba', commit_message='Upload tokenizer', commit_description='', oid='dfda0c6b3665eadf973a6013498754131970e6ba', pr_url=None, repo_url=RepoUrl('https://huggingface.co/Gabriel-Ferreira/llama-3.2-fine-tuned-model', endpoint='https://huggingface.co', repo_type='model', repo_id='Gabriel-Ferreira/llama-3.2-fine-tuned-model'), pr_revision=None, pr_num=None)"
      ]
     },
     "execution_count": 62,
     "metadata": {},
     "output_type": "execute_result"
    }
   ],
   "source": [
    "model.push_to_hub(output_dir, use_temp_dir=False)\n",
    "tokenizer.push_to_hub(output_dir, use_temp_dir=False)"
   ]
  }
 ],
 "metadata": {
  "kaggle": {
   "accelerator": "gpu",
   "dataSources": [
    {
     "datasetId": 6906093,
     "sourceId": 11080504,
     "sourceType": "datasetVersion"
    },
    {
     "datasetId": 6906111,
     "sourceId": 11080527,
     "sourceType": "datasetVersion"
    },
    {
     "sourceId": 228488690,
     "sourceType": "kernelVersion"
    }
   ],
   "dockerImageVersionId": 31011,
   "isGpuEnabled": true,
   "isInternetEnabled": true,
   "language": "python",
   "sourceType": "notebook"
  },
  "kernelspec": {
   "display_name": "Python 3",
   "language": "python",
   "name": "python3"
  },
  "language_info": {
   "codemirror_mode": {
    "name": "ipython",
    "version": 3
   },
   "file_extension": ".py",
   "mimetype": "text/x-python",
   "name": "python",
   "nbconvert_exporter": "python",
   "pygments_lexer": "ipython3",
   "version": "3.11.11"
  },
  "papermill": {
   "default_parameters": {},
   "duration": null,
   "end_time": null,
   "environment_variables": {},
   "exception": null,
   "input_path": "__notebook__.ipynb",
   "output_path": "__notebook__.ipynb",
   "parameters": {},
   "start_time": "2025-03-19T15:53:41.809092",
   "version": "2.6.0"
  }
 },
 "nbformat": 4,
 "nbformat_minor": 5
}
